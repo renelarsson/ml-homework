{
 "cells": [
  {
   "cell_type": "markdown",
   "id": "36b40711",
   "metadata": {},
   "source": [
    "## Homework\n",
    "Note: sometimes your answer doesn't match one of the options exactly. That's fine. Select the option that's closest to your solution.\n",
    "\n",
    "### Dataset\n",
    "For this homework, we'll use the Car Fuel Efficiency dataset. Download it from [here](https://raw.githubusercontent.com/alexeygrigorev/datasets/master/car_fuel_efficiency.csv)\n",
    "\n",
    "You can do it with wget:\n",
    "\n",
    "`wget https://raw.githubusercontent.com/alexeygrigorev/datasets/master/car_fuel_efficiency.csv`\n",
    "\n",
    "The goal of this homework is to create a regression model for predicting the car fuel efficiency (column 'fuel_efficiency_mpg').\n",
    "\n",
    "### Preparing the dataset\n",
    "Use only the following columns:\n",
    "\n",
    "* 'engine_displacement',\n",
    "* 'horsepower',\n",
    "* 'vehicle_weight',\n",
    "* 'model_year',\n",
    "* 'fuel_efficiency_mpg'"
   ]
  },
  {
   "cell_type": "code",
   "execution_count": 1,
   "id": "abb32149-9f41-4bb0-abb7-eaf4dd151e0d",
   "metadata": {},
   "outputs": [],
   "source": [
    "import pandas as pd\n",
    "import numpy as np"
   ]
  },
  {
   "cell_type": "code",
   "execution_count": 2,
   "id": "86b0cbe1-c278-45fe-9ce4-3139b2a66096",
   "metadata": {},
   "outputs": [],
   "source": [
    "data = 'https://raw.githubusercontent.com/alexeygrigorev/datasets/master/car_fuel_efficiency.csv'"
   ]
  },
  {
   "cell_type": "code",
   "execution_count": 3,
   "id": "c1ef896f-a586-41f8-8cc5-fbf46f54213d",
   "metadata": {},
   "outputs": [
    {
     "name": "stdout",
     "output_type": "stream",
     "text": [
      "--2025-09-29 07:44:57--  https://raw.githubusercontent.com/alexeygrigorev/datasets/master/car_fuel_efficiency.csv\n",
      "Resolving raw.githubusercontent.com (raw.githubusercontent.com)... 185.199.109.133, 185.199.110.133, 185.199.111.133, ...\n",
      "Connecting to raw.githubusercontent.com (raw.githubusercontent.com)|185.199.109.133|:443... connected.\n",
      "HTTP request sent, awaiting response... 200 OK\n",
      "Length: 874188 (854K) [text/plain]\n",
      "Saving to: ‘car_fuel_efficiency.csv’\n",
      "\n",
      "car_fuel_efficiency 100%[===================>] 853.70K  --.-KB/s    in 0.008s  \n",
      "\n",
      "2025-09-29 07:44:57 (105 MB/s) - ‘car_fuel_efficiency.csv’ saved [874188/874188]\n",
      "\n"
     ]
    }
   ],
   "source": [
    "# Download the Dataset (! means a shell command executed from Jupyter, $ substitutes the URL with data):\n",
    "!wget $data "
   ]
  },
  {
   "cell_type": "code",
   "execution_count": 4,
   "id": "9848a0f8-a0d3-46dd-b92e-7be666164d3a",
   "metadata": {},
   "outputs": [],
   "source": [
    "df = pd.read_csv('car_fuel_efficiency.csv')"
   ]
  },
  {
   "cell_type": "code",
   "execution_count": 5,
   "id": "b6dddc4d-6005-4426-849a-2342974b5213",
   "metadata": {},
   "outputs": [
    {
     "data": {
      "text/html": [
       "<div>\n",
       "<style scoped>\n",
       "    .dataframe tbody tr th:only-of-type {\n",
       "        vertical-align: middle;\n",
       "    }\n",
       "\n",
       "    .dataframe tbody tr th {\n",
       "        vertical-align: top;\n",
       "    }\n",
       "\n",
       "    .dataframe thead th {\n",
       "        text-align: right;\n",
       "    }\n",
       "</style>\n",
       "<table border=\"1\" class=\"dataframe\">\n",
       "  <thead>\n",
       "    <tr style=\"text-align: right;\">\n",
       "      <th></th>\n",
       "      <th>engine_displacement</th>\n",
       "      <th>num_cylinders</th>\n",
       "      <th>horsepower</th>\n",
       "      <th>vehicle_weight</th>\n",
       "      <th>acceleration</th>\n",
       "      <th>model_year</th>\n",
       "      <th>origin</th>\n",
       "      <th>fuel_type</th>\n",
       "      <th>drivetrain</th>\n",
       "      <th>num_doors</th>\n",
       "      <th>fuel_efficiency_mpg</th>\n",
       "    </tr>\n",
       "  </thead>\n",
       "  <tbody>\n",
       "    <tr>\n",
       "      <th>0</th>\n",
       "      <td>170</td>\n",
       "      <td>3.0</td>\n",
       "      <td>159.0</td>\n",
       "      <td>3413.433759</td>\n",
       "      <td>17.7</td>\n",
       "      <td>2003</td>\n",
       "      <td>Europe</td>\n",
       "      <td>Gasoline</td>\n",
       "      <td>All-wheel drive</td>\n",
       "      <td>0.0</td>\n",
       "      <td>13.231729</td>\n",
       "    </tr>\n",
       "    <tr>\n",
       "      <th>1</th>\n",
       "      <td>130</td>\n",
       "      <td>5.0</td>\n",
       "      <td>97.0</td>\n",
       "      <td>3149.664934</td>\n",
       "      <td>17.8</td>\n",
       "      <td>2007</td>\n",
       "      <td>USA</td>\n",
       "      <td>Gasoline</td>\n",
       "      <td>Front-wheel drive</td>\n",
       "      <td>0.0</td>\n",
       "      <td>13.688217</td>\n",
       "    </tr>\n",
       "    <tr>\n",
       "      <th>2</th>\n",
       "      <td>170</td>\n",
       "      <td>NaN</td>\n",
       "      <td>78.0</td>\n",
       "      <td>3079.038997</td>\n",
       "      <td>15.1</td>\n",
       "      <td>2018</td>\n",
       "      <td>Europe</td>\n",
       "      <td>Gasoline</td>\n",
       "      <td>Front-wheel drive</td>\n",
       "      <td>0.0</td>\n",
       "      <td>14.246341</td>\n",
       "    </tr>\n",
       "    <tr>\n",
       "      <th>3</th>\n",
       "      <td>220</td>\n",
       "      <td>4.0</td>\n",
       "      <td>NaN</td>\n",
       "      <td>2542.392402</td>\n",
       "      <td>20.2</td>\n",
       "      <td>2009</td>\n",
       "      <td>USA</td>\n",
       "      <td>Diesel</td>\n",
       "      <td>All-wheel drive</td>\n",
       "      <td>2.0</td>\n",
       "      <td>16.912736</td>\n",
       "    </tr>\n",
       "    <tr>\n",
       "      <th>4</th>\n",
       "      <td>210</td>\n",
       "      <td>1.0</td>\n",
       "      <td>140.0</td>\n",
       "      <td>3460.870990</td>\n",
       "      <td>14.4</td>\n",
       "      <td>2009</td>\n",
       "      <td>Europe</td>\n",
       "      <td>Gasoline</td>\n",
       "      <td>All-wheel drive</td>\n",
       "      <td>2.0</td>\n",
       "      <td>12.488369</td>\n",
       "    </tr>\n",
       "  </tbody>\n",
       "</table>\n",
       "</div>"
      ],
      "text/plain": [
       "   engine_displacement  num_cylinders  horsepower  vehicle_weight  \\\n",
       "0                  170            3.0       159.0     3413.433759   \n",
       "1                  130            5.0        97.0     3149.664934   \n",
       "2                  170            NaN        78.0     3079.038997   \n",
       "3                  220            4.0         NaN     2542.392402   \n",
       "4                  210            1.0       140.0     3460.870990   \n",
       "\n",
       "   acceleration  model_year  origin fuel_type         drivetrain  num_doors  \\\n",
       "0          17.7        2003  Europe  Gasoline    All-wheel drive        0.0   \n",
       "1          17.8        2007     USA  Gasoline  Front-wheel drive        0.0   \n",
       "2          15.1        2018  Europe  Gasoline  Front-wheel drive        0.0   \n",
       "3          20.2        2009     USA    Diesel    All-wheel drive        2.0   \n",
       "4          14.4        2009  Europe  Gasoline    All-wheel drive        2.0   \n",
       "\n",
       "   fuel_efficiency_mpg  \n",
       "0            13.231729  \n",
       "1            13.688217  \n",
       "2            14.246341  \n",
       "3            16.912736  \n",
       "4            12.488369  "
      ]
     },
     "execution_count": 5,
     "metadata": {},
     "output_type": "execute_result"
    }
   ],
   "source": [
    "df.head()"
   ]
  },
  {
   "cell_type": "code",
   "execution_count": 6,
   "id": "a4784bae-9e20-4bb2-931c-76d20aa0429b",
   "metadata": {},
   "outputs": [
    {
     "data": {
      "text/plain": [
       "engine_displacement      int64\n",
       "num_cylinders          float64\n",
       "horsepower             float64\n",
       "vehicle_weight         float64\n",
       "acceleration           float64\n",
       "model_year               int64\n",
       "origin                  object\n",
       "fuel_type               object\n",
       "drivetrain              object\n",
       "num_doors              float64\n",
       "fuel_efficiency_mpg    float64\n",
       "dtype: object"
      ]
     },
     "execution_count": 6,
     "metadata": {},
     "output_type": "execute_result"
    }
   ],
   "source": [
    "df.dtypes"
   ]
  },
  {
   "cell_type": "code",
   "execution_count": 7,
   "id": "2f10ed16-151f-4373-8071-2d74a09d472e",
   "metadata": {},
   "outputs": [],
   "source": [
    "# Columns to use:\n",
    "columns_used = ['engine_displacement',\t'horsepower', 'vehicle_weight', 'model_year',\t'fuel_efficiency_mpg']"
   ]
  },
  {
   "cell_type": "code",
   "execution_count": 8,
   "id": "2c1a197f-8f4f-4478-ade7-f3ff5b265ffb",
   "metadata": {},
   "outputs": [],
   "source": [
    "df_new = df[columns_used]"
   ]
  },
  {
   "cell_type": "code",
   "execution_count": 9,
   "id": "f3388103-bbee-4c17-98cb-9ae26f05b6bd",
   "metadata": {},
   "outputs": [
    {
     "data": {
      "text/html": [
       "<div>\n",
       "<style scoped>\n",
       "    .dataframe tbody tr th:only-of-type {\n",
       "        vertical-align: middle;\n",
       "    }\n",
       "\n",
       "    .dataframe tbody tr th {\n",
       "        vertical-align: top;\n",
       "    }\n",
       "\n",
       "    .dataframe thead th {\n",
       "        text-align: right;\n",
       "    }\n",
       "</style>\n",
       "<table border=\"1\" class=\"dataframe\">\n",
       "  <thead>\n",
       "    <tr style=\"text-align: right;\">\n",
       "      <th></th>\n",
       "      <th>engine_displacement</th>\n",
       "      <th>horsepower</th>\n",
       "      <th>vehicle_weight</th>\n",
       "      <th>model_year</th>\n",
       "      <th>fuel_efficiency_mpg</th>\n",
       "    </tr>\n",
       "  </thead>\n",
       "  <tbody>\n",
       "    <tr>\n",
       "      <th>0</th>\n",
       "      <td>170</td>\n",
       "      <td>159.0</td>\n",
       "      <td>3413.433759</td>\n",
       "      <td>2003</td>\n",
       "      <td>13.231729</td>\n",
       "    </tr>\n",
       "    <tr>\n",
       "      <th>1</th>\n",
       "      <td>130</td>\n",
       "      <td>97.0</td>\n",
       "      <td>3149.664934</td>\n",
       "      <td>2007</td>\n",
       "      <td>13.688217</td>\n",
       "    </tr>\n",
       "    <tr>\n",
       "      <th>2</th>\n",
       "      <td>170</td>\n",
       "      <td>78.0</td>\n",
       "      <td>3079.038997</td>\n",
       "      <td>2018</td>\n",
       "      <td>14.246341</td>\n",
       "    </tr>\n",
       "    <tr>\n",
       "      <th>3</th>\n",
       "      <td>220</td>\n",
       "      <td>NaN</td>\n",
       "      <td>2542.392402</td>\n",
       "      <td>2009</td>\n",
       "      <td>16.912736</td>\n",
       "    </tr>\n",
       "    <tr>\n",
       "      <th>4</th>\n",
       "      <td>210</td>\n",
       "      <td>140.0</td>\n",
       "      <td>3460.870990</td>\n",
       "      <td>2009</td>\n",
       "      <td>12.488369</td>\n",
       "    </tr>\n",
       "  </tbody>\n",
       "</table>\n",
       "</div>"
      ],
      "text/plain": [
       "   engine_displacement  horsepower  vehicle_weight  model_year  \\\n",
       "0                  170       159.0     3413.433759        2003   \n",
       "1                  130        97.0     3149.664934        2007   \n",
       "2                  170        78.0     3079.038997        2018   \n",
       "3                  220         NaN     2542.392402        2009   \n",
       "4                  210       140.0     3460.870990        2009   \n",
       "\n",
       "   fuel_efficiency_mpg  \n",
       "0            13.231729  \n",
       "1            13.688217  \n",
       "2            14.246341  \n",
       "3            16.912736  \n",
       "4            12.488369  "
      ]
     },
     "execution_count": 9,
     "metadata": {},
     "output_type": "execute_result"
    }
   ],
   "source": [
    "df_new.head()"
   ]
  },
  {
   "cell_type": "markdown",
   "id": "1fdbd3bd-2ef9-47c8-8e73-36fe9804fd1e",
   "metadata": {},
   "source": [
    "### EDA\n",
    "Look at the fuel_efficiency_mpg variable. Does it have a long tail?"
   ]
  },
  {
   "cell_type": "code",
   "execution_count": 10,
   "id": "c687d0d2-6142-4a7a-b984-8a56019c50f6",
   "metadata": {},
   "outputs": [],
   "source": [
    "import matplotlib.pyplot as plt\n",
    "import seaborn as sns\n",
    "\n",
    "%matplotlib inline"
   ]
  },
  {
   "cell_type": "code",
   "execution_count": 11,
   "id": "aef0b57b-8560-4785-839d-be71d3645c08",
   "metadata": {},
   "outputs": [
    {
     "data": {
      "text/plain": [
       "<Axes: xlabel='fuel_efficiency_mpg', ylabel='Count'>"
      ]
     },
     "execution_count": 11,
     "metadata": {},
     "output_type": "execute_result"
    },
    {
     "data": {
      "image/png": "[encoded data removed]",
      "text/plain": [
       "<Figure size 640x480 with 1 Axes>"
      ]
     },
     "metadata": {},
     "output_type": "display_data"
    }
   ],
   "source": [
    "# Plot the horsepower variable:\n",
    "sns.histplot(df_new.fuel_efficiency_mpg, bins=50)"
   ]
  },
  {
   "cell_type": "markdown",
   "id": "f51b1811-28fc-41a5-8fb5-fe090d1effa0",
   "metadata": {},
   "source": [
    "### Question 1\n",
    "\n",
    "There's one column with missing values. What is it?\n",
    "\n",
    "- `engine_displacement`\n",
    "- **`horsepower`**\n",
    "- `vehicle_weight`\n",
    "- `model_year`"
   ]
  },
  {
   "cell_type": "code",
   "execution_count": 12,
   "id": "14427035-433b-4c90-ac32-8fb3eab80d54",
   "metadata": {},
   "outputs": [
    {
     "data": {
      "text/plain": [
       "engine_displacement      0\n",
       "horsepower             708\n",
       "vehicle_weight           0\n",
       "model_year               0\n",
       "fuel_efficiency_mpg      0\n",
       "dtype: int64"
      ]
     },
     "execution_count": 12,
     "metadata": {},
     "output_type": "execute_result"
    }
   ],
   "source": [
    "df_new.isnull().sum()"
   ]
  },
  {
   "cell_type": "markdown",
   "id": "74f36cbc-0062-47e4-bb97-06cb579aa77a",
   "metadata": {},
   "source": [
    "### Question 2\n",
    "\n",
    "What's the median (50% percentile) for variable `horsepower`?\n",
    "\n",
    "- 49\n",
    "- 99\n",
    "- **149**\n",
    "- 199"
   ]
  },
  {
   "cell_type": "code",
   "execution_count": 13,
   "id": "7584bcb7-b813-41a6-b491-f4a8d8e16df2",
   "metadata": {},
   "outputs": [
    {
     "data": {
      "text/plain": [
       "np.float64(149.0)"
      ]
     },
     "execution_count": 13,
     "metadata": {},
     "output_type": "execute_result"
    }
   ],
   "source": [
    "df_new.horsepower.median()"
   ]
  },
  {
   "cell_type": "markdown",
   "id": "30b93fa5-c2f3-44d1-8aef-e9eac19a42ba",
   "metadata": {},
   "source": [
    "### Prepare and split the dataset\n",
    "\n",
    "- Shuffle the dataset (the filtered one you created above), use seed 42.\n",
    "- Split your data in train/val/test sets, with 60%/20%/20% distribution.\n",
    "- Use the same code as in the lectures."
   ]
  },
  {
   "cell_type": "code",
   "execution_count": 14,
   "id": "1b506b50-010a-4be3-98cd-f9d8e189dd8d",
   "metadata": {},
   "outputs": [],
   "source": [
    "n = len(df_new)"
   ]
  },
  {
   "cell_type": "code",
   "execution_count": 15,
   "id": "c25be1c2-9265-4232-ada8-20005b659ad3",
   "metadata": {},
   "outputs": [
    {
     "data": {
      "text/plain": [
       "9704"
      ]
     },
     "execution_count": 15,
     "metadata": {},
     "output_type": "execute_result"
    }
   ],
   "source": [
    "n"
   ]
  },
  {
   "cell_type": "code",
   "execution_count": 16,
   "id": "d6ddd326-db77-48a4-b5b9-46f4e9f9cc3f",
   "metadata": {},
   "outputs": [],
   "source": [
    "idx = np.arange(n)"
   ]
  },
  {
   "cell_type": "code",
   "execution_count": 17,
   "id": "db1aec15-918a-4efc-af03-bec2661def4a",
   "metadata": {},
   "outputs": [],
   "source": [
    "# Shuffle the dataset (the filtered one you created above), use seed 42:\n",
    "np.random.seed(42)\n",
    "np.random.shuffle(idx)"
   ]
  },
  {
   "cell_type": "code",
   "execution_count": 18,
   "id": "b981b053-a0fd-48dd-8244-ce1d4f2393d6",
   "metadata": {},
   "outputs": [],
   "source": [
    "# Split your data in train/val/test sets, with 60%/20%/20% distribution:\n",
    "n_val = int(n * 0.2)\n",
    "n_test = int(n * 0.2)\n",
    "n_train = n - n_val - n_test"
   ]
  },
  {
   "cell_type": "code",
   "execution_count": 19,
   "id": "62c76bf6-340d-4c37-8fb1-1ddf68689ec6",
   "metadata": {},
   "outputs": [
    {
     "data": {
      "text/plain": [
       "(5824, 1940, 1940)"
      ]
     },
     "execution_count": 19,
     "metadata": {},
     "output_type": "execute_result"
    }
   ],
   "source": [
    "n_train, n_val, n_test"
   ]
  },
  {
   "cell_type": "code",
   "execution_count": 20,
   "id": "1213aa28-07eb-48cc-91cb-e2d192107cb4",
   "metadata": {},
   "outputs": [],
   "source": [
    "df_train = df.iloc[idx[:n_train]]\n",
    "df_val = df.iloc[idx[n_train:n_train + n_val]]\n",
    "df_test = df.iloc[idx[n_train + n_val:]]"
   ]
  },
  {
   "cell_type": "code",
   "execution_count": 21,
   "id": "055dc918-ae0f-426d-b3b9-350a5bc7b510",
   "metadata": {},
   "outputs": [
    {
     "data": {
      "text/html": [
       "<div>\n",
       "<style scoped>\n",
       "    .dataframe tbody tr th:only-of-type {\n",
       "        vertical-align: middle;\n",
       "    }\n",
       "\n",
       "    .dataframe tbody tr th {\n",
       "        vertical-align: top;\n",
       "    }\n",
       "\n",
       "    .dataframe thead th {\n",
       "        text-align: right;\n",
       "    }\n",
       "</style>\n",
       "<table border=\"1\" class=\"dataframe\">\n",
       "  <thead>\n",
       "    <tr style=\"text-align: right;\">\n",
       "      <th></th>\n",
       "      <th>engine_displacement</th>\n",
       "      <th>num_cylinders</th>\n",
       "      <th>horsepower</th>\n",
       "      <th>vehicle_weight</th>\n",
       "      <th>acceleration</th>\n",
       "      <th>model_year</th>\n",
       "      <th>origin</th>\n",
       "      <th>fuel_type</th>\n",
       "      <th>drivetrain</th>\n",
       "      <th>num_doors</th>\n",
       "      <th>fuel_efficiency_mpg</th>\n",
       "    </tr>\n",
       "  </thead>\n",
       "  <tbody>\n",
       "    <tr>\n",
       "      <th>483</th>\n",
       "      <td>220</td>\n",
       "      <td>3.0</td>\n",
       "      <td>144.0</td>\n",
       "      <td>2535.887591</td>\n",
       "      <td>18.7</td>\n",
       "      <td>2009</td>\n",
       "      <td>USA</td>\n",
       "      <td>Gasoline</td>\n",
       "      <td>All-wheel drive</td>\n",
       "      <td>2.0</td>\n",
       "      <td>16.642943</td>\n",
       "    </tr>\n",
       "    <tr>\n",
       "      <th>7506</th>\n",
       "      <td>160</td>\n",
       "      <td>2.0</td>\n",
       "      <td>141.0</td>\n",
       "      <td>2741.170484</td>\n",
       "      <td>14.3</td>\n",
       "      <td>2019</td>\n",
       "      <td>Asia</td>\n",
       "      <td>Diesel</td>\n",
       "      <td>Front-wheel drive</td>\n",
       "      <td>2.0</td>\n",
       "      <td>16.298377</td>\n",
       "    </tr>\n",
       "    <tr>\n",
       "      <th>8795</th>\n",
       "      <td>230</td>\n",
       "      <td>3.0</td>\n",
       "      <td>155.0</td>\n",
       "      <td>2471.880237</td>\n",
       "      <td>NaN</td>\n",
       "      <td>2017</td>\n",
       "      <td>Asia</td>\n",
       "      <td>Diesel</td>\n",
       "      <td>Front-wheel drive</td>\n",
       "      <td>2.0</td>\n",
       "      <td>18.591822</td>\n",
       "    </tr>\n",
       "    <tr>\n",
       "      <th>1688</th>\n",
       "      <td>150</td>\n",
       "      <td>3.0</td>\n",
       "      <td>206.0</td>\n",
       "      <td>3748.164469</td>\n",
       "      <td>15.5</td>\n",
       "      <td>2015</td>\n",
       "      <td>USA</td>\n",
       "      <td>Gasoline</td>\n",
       "      <td>All-wheel drive</td>\n",
       "      <td>1.0</td>\n",
       "      <td>11.818843</td>\n",
       "    </tr>\n",
       "    <tr>\n",
       "      <th>6217</th>\n",
       "      <td>300</td>\n",
       "      <td>4.0</td>\n",
       "      <td>111.0</td>\n",
       "      <td>2135.716359</td>\n",
       "      <td>16.9</td>\n",
       "      <td>2006</td>\n",
       "      <td>USA</td>\n",
       "      <td>Gasoline</td>\n",
       "      <td>All-wheel drive</td>\n",
       "      <td>NaN</td>\n",
       "      <td>19.402209</td>\n",
       "    </tr>\n",
       "  </tbody>\n",
       "</table>\n",
       "</div>"
      ],
      "text/plain": [
       "      engine_displacement  num_cylinders  horsepower  vehicle_weight  \\\n",
       "483                   220            3.0       144.0     2535.887591   \n",
       "7506                  160            2.0       141.0     2741.170484   \n",
       "8795                  230            3.0       155.0     2471.880237   \n",
       "1688                  150            3.0       206.0     3748.164469   \n",
       "6217                  300            4.0       111.0     2135.716359   \n",
       "\n",
       "      acceleration  model_year origin fuel_type         drivetrain  num_doors  \\\n",
       "483           18.7        2009    USA  Gasoline    All-wheel drive        2.0   \n",
       "7506          14.3        2019   Asia    Diesel  Front-wheel drive        2.0   \n",
       "8795           NaN        2017   Asia    Diesel  Front-wheel drive        2.0   \n",
       "1688          15.5        2015    USA  Gasoline    All-wheel drive        1.0   \n",
       "6217          16.9        2006    USA  Gasoline    All-wheel drive        NaN   \n",
       "\n",
       "      fuel_efficiency_mpg  \n",
       "483             16.642943  \n",
       "7506            16.298377  \n",
       "8795            18.591822  \n",
       "1688            11.818843  \n",
       "6217            19.402209  "
      ]
     },
     "execution_count": 21,
     "metadata": {},
     "output_type": "execute_result"
    }
   ],
   "source": [
    "df_train.head()"
   ]
  },
  {
   "cell_type": "markdown",
   "id": "e0918161-3dc6-47bc-83ae-aa36f3f7f40a",
   "metadata": {},
   "source": [
    "### Question 3\n",
    "\n",
    "We need to deal with missing values for the column from Q1.\n",
    "\n",
    "We have two options: fill it with 0 or with the mean of this variable.\n",
    "\n",
    "- Try both options. For each, train a linear regression model without regularization using the code from the lessons.\n",
    "- For computing the mean, use the training only!\n",
    "- Use the validation dataset to evaluate the models and compare the RMSE of each option.\n",
    "- Round the RMSE scores to 2 decimal digits using `round(score, 2)`.\n",
    "\n",
    "Which option gives better RMSE?\n",
    "\n",
    "Options:\n",
    "\n",
    "- With 0\n",
    "- **With mean**\n",
    "- Both are equally good"
   ]
  },
  {
   "cell_type": "code",
   "execution_count": 24,
   "id": "ccfb2b39-5cdd-436a-97f7-e25b787ce1ff",
   "metadata": {},
   "outputs": [],
   "source": [
    "# Fill missing values and convert Pandas Series into NumPy array:\n",
    "base = ['engine_displacement',\t'horsepower', 'vehicle_weight', 'model_year']\n",
    "X_train_zero = df_train[base].fillna(0).values\n",
    "X_val_zero = df_val[base].fillna(0).values"
   ]
  },
  {
   "cell_type": "code",
   "execution_count": 25,
   "id": "a754db12-9771-4753-a028-df0012a3ec06",
   "metadata": {},
   "outputs": [],
   "source": [
    "# Compute the mean of horsepower column using training:\n",
    "hp_mean = df_train.horsepower.mean()\n",
    "X_train_mean = df_train[base].fillna(hp_mean).values\n",
    "X_val_mean = df_val[base].fillna(hp_mean).values"
   ]
  },
  {
   "cell_type": "code",
   "execution_count": 26,
   "id": "4faa57ca-00f9-45e1-899a-08a45a51fe0b",
   "metadata": {},
   "outputs": [],
   "source": [
    "# Convert targets into NumPy array:\n",
    "y_train = df_train.fuel_efficiency_mpg.values\n",
    "y_val = df_val.fuel_efficiency_mpg.values\n",
    "y_test = df_test.fuel_efficiency_mpg.values"
   ]
  },
  {
   "cell_type": "code",
   "execution_count": 27,
   "id": "628ddd74-0288-4bd6-ba91-1e20141b59ab",
   "metadata": {},
   "outputs": [],
   "source": [
    "# Train a linear regression model without regularization:\n",
    "def train_linear_regression(X, y):\n",
    "    # Add the bias column (intercept) of ones to the feature matrix X:\n",
    "    ones = np.ones(X.shape[0]) \n",
    "    # The bias term is treated as just another weight\n",
    "    X = np.column_stack([ones, X]) \n",
    "\n",
    "    # Summarize the relationships between features to get the covariance structure\n",
    "    XTX = X.T.dot(X)\n",
    "    # Invert 'X^T X' to isolate 'w' and undo the scaling and correlation between features\n",
    "    XTX_inv = np.linalg.inv(XTX)\n",
    "    # The weights are computed using the Normal Equation: [ w = (X^T X)^{-1} X^T y ]\n",
    "    w_full = XTX_inv.dot(X.T).dot(y)\n",
    "\n",
    "    # Return the Bias and Weights\n",
    "    return w_full[0], w_full[1:]"
   ]
  },
  {
   "cell_type": "markdown",
   "id": "839f2e88-7904-4598-85d7-7759c046e436",
   "metadata": {},
   "source": [
    "### Fit the model\n",
    "\n",
    "- **w0_zero:** The bias term/intercept represents the base prediction when all feature values are zero (a scalar value)\n",
    "- **w_zero**: The vector of weights/coefficients for the features. Each weight corresponds to the importance of a feature in predicting the target variable.\n",
    "\n",
    "train_linear_regression computes the weights and bias using the Normal Equation. \n",
    "the Normal Equation finds the best-fit parameters (w_zero and w0_zero) that minimize the error between the \"predicted\" values and the actual target values in the training data. Predicted meaning that features that have a stronger relationship with the target will receive higher weights because they reduce the errors more effectively. The explicit prediction y_pred_zero is computed for the training data to evaluate how well the model fits the training set."
   ]
  },
  {
   "cell_type": "code",
   "execution_count": 28,
   "id": "7a854443-5f35-452f-9027-f753b8e874d3",
   "metadata": {},
   "outputs": [],
   "source": [
    "w0_zero, w_zero = train_linear_regression(X_train_zero, y_train)\n",
    "\n",
    "# Predicted values for training examples based on features and corresponding weights\n",
    "y_pred_zero = w0_zero + X_train_zero.dot(w_zero)"
   ]
  },
  {
   "cell_type": "code",
   "execution_count": 29,
   "id": "590f3918-aa83-413a-b111-db6f0b37fe93",
   "metadata": {},
   "outputs": [
    {
     "data": {
      "text/plain": [
       "(np.float64(28.82736547365895),\n",
       " array([ 9.93613218e-05,  3.54221891e-03, -5.01328015e-03,  3.42992870e-04]))"
      ]
     },
     "execution_count": 29,
     "metadata": {},
     "output_type": "execute_result"
    }
   ],
   "source": [
    "w0_zero, w_zero"
   ]
  },
  {
   "cell_type": "code",
   "execution_count": 30,
   "id": "2e98f5a9-a555-4b83-b47c-8d4f35ada889",
   "metadata": {},
   "outputs": [],
   "source": [
    "w0_mean, w_mean = train_linear_regression(X_train_mean, y_train)\n",
    "y_pred_mean = w0_mean + X_train_mean.dot(w_mean)"
   ]
  },
  {
   "cell_type": "code",
   "execution_count": 31,
   "id": "0fc5af86-3847-4ecb-b8b5-c02ce185228d",
   "metadata": {},
   "outputs": [
    {
     "data": {
      "text/plain": [
       "(np.float64(28.925259951002698),\n",
       " array([ 0.00012093,  0.01030308, -0.00501009, -0.00023463]))"
      ]
     },
     "execution_count": 31,
     "metadata": {},
     "output_type": "execute_result"
    }
   ],
   "source": [
    "w0_mean, w_mean"
   ]
  },
  {
   "cell_type": "code",
   "execution_count": 32,
   "id": "66b95b61-66d5-4732-97c5-45a15fdaa8a5",
   "metadata": {},
   "outputs": [
    {
     "data": {
      "text/plain": [
       "<Axes: ylabel='Count'>"
      ]
     },
     "execution_count": 32,
     "metadata": {},
     "output_type": "execute_result"
    },
    {
     "data": {
      "image/png": "[encoded data removed]",
      "text/plain": [
       "<Figure size 640x480 with 1 Axes>"
      ]
     },
     "metadata": {},
     "output_type": "display_data"
    }
   ],
   "source": [
    "sns.histplot(y_pred_zero, color='red', alpha=0.5, bins=50)\n",
    "sns.histplot(y_train, color='blue', alpha=0.5, bins=50)"
   ]
  },
  {
   "cell_type": "code",
   "execution_count": 33,
   "id": "9ec6efca-fb14-49ee-b5e8-5fc2ddd10de5",
   "metadata": {},
   "outputs": [
    {
     "data": {
      "text/plain": [
       "<Axes: ylabel='Count'>"
      ]
     },
     "execution_count": 33,
     "metadata": {},
     "output_type": "execute_result"
    },
    {
     "data": {
      "image/png": "[encoded data removed]",
      "text/plain": [
       "<Figure size 640x480 with 1 Axes>"
      ]
     },
     "metadata": {},
     "output_type": "display_data"
    }
   ],
   "source": [
    "sns.histplot(y_pred_mean, color='red', alpha=0.5, bins=50)\n",
    "sns.histplot(y_train, color='blue', alpha=0.5, bins=50)"
   ]
  },
  {
   "cell_type": "code",
   "execution_count": 34,
   "id": "ced41b4c-727e-41c6-aea4-5ef738c7fa2b",
   "metadata": {},
   "outputs": [],
   "source": [
    "# Use the validation dataset to evaluate the models and compare the RMSE of each option:\n",
    "def rmse(y, y_pred):\n",
    "    se = (y - y_pred) ** 2\n",
    "    mse = se.mean()\n",
    "    return np.sqrt(mse)"
   ]
  },
  {
   "cell_type": "code",
   "execution_count": 35,
   "id": "4d6d97a4-de0a-40b9-887f-1b10e12582f9",
   "metadata": {},
   "outputs": [],
   "source": [
    "# Use preprocessing functions on validation sets:\n",
    "def prepare_X_zero(df):\n",
    "    df_num = df[base]\n",
    "    df_num = df_num.fillna(0)\n",
    "    X = df_num.values\n",
    "    return X\n",
    "\n",
    "def prepare_X_mean(df):\n",
    "    df_num = df[base]\n",
    "    df_num = df_num.fillna(hp_mean)\n",
    "    X = df_num.values\n",
    "    return X"
   ]
  },
  {
   "cell_type": "code",
   "execution_count": 36,
   "id": "bc4ba658-f032-440e-b7c5-41534dcf147d",
   "metadata": {},
   "outputs": [],
   "source": [
    "# Round the RMSE scores to 2 decimal digits using `round(score, 2)`:\n",
    "X_val_zero = prepare_X_zero(df_val)\n",
    "y_pred_zero = w0_zero + X_val_zero.dot(w_zero) \n",
    "rmse_zero = round(rmse(y_val, y_pred_zero), 2)"
   ]
  },
  {
   "cell_type": "code",
   "execution_count": 37,
   "id": "7ff9c111-e6d3-495c-8879-0bfd849257fe",
   "metadata": {},
   "outputs": [
    {
     "data": {
      "text/plain": [
       "np.float64(0.52)"
      ]
     },
     "execution_count": 37,
     "metadata": {},
     "output_type": "execute_result"
    }
   ],
   "source": [
    "rmse_zero"
   ]
  },
  {
   "cell_type": "code",
   "execution_count": 38,
   "id": "8fd7f307-03e1-405c-89e6-fdf3f81d082f",
   "metadata": {},
   "outputs": [],
   "source": [
    "X_val_mean = prepare_X_mean(df_val)\n",
    "y_pred_mean = w0_mean + X_val_mean.dot(w_mean) \n",
    "rmse_mean = round(rmse(y_val, y_pred_mean), 2)"
   ]
  },
  {
   "cell_type": "code",
   "execution_count": 39,
   "id": "6a199a33-79c5-454f-9e87-9f3ac1b09667",
   "metadata": {},
   "outputs": [
    {
     "data": {
      "text/plain": [
       "np.float64(0.46)"
      ]
     },
     "execution_count": 39,
     "metadata": {},
     "output_type": "execute_result"
    }
   ],
   "source": [
    "rmse_mean"
   ]
  },
  {
   "cell_type": "markdown",
   "id": "86f5f4db-e611-47aa-9a92-4e354e84add7",
   "metadata": {},
   "source": [
    "### Question 4\n",
    "\n",
    "Now let's train a regularized linear regression.\n",
    "\n",
    "- For this question, fill the NAs with 0.\n",
    "- Try different values of `r` from this list: `[0, 0.01, 0.1, 1, 5, 10, 100]`.\n",
    "- Use RMSE to evaluate the model on the validation dataset.\n",
    "- Round the RMSE scores to 2 decimal digits.\n",
    "\n",
    "Which `r` gives the best RMSE? If there are multiple options, select the smallest `r`.\n",
    "\n",
    "Options:\n",
    "\n",
    "- 0\n",
    "- **0.01**\n",
    "- 1\n",
    "- 10\n",
    "- 100"
   ]
  },
  {
   "cell_type": "markdown",
   "id": "134d3e04-63e8-4539-89b8-968b7a12fdb8",
   "metadata": {},
   "source": [
    "**1. Context: Regularized Linear Regression**\n",
    "* In regular linear regression, the weights are computed using the Normal Equation:\n",
    "\n",
    "    \\[\n",
    "        w = (X^T X)^{-1} X^T y\n",
    "    \\]\n",
    "\n",
    "* However, if the matrix ( X^T X ) is singular (non-invertible) or close to singular, the inversion step becomes unstable. This can happen when:\n",
    "    * Features are highly correlated (multicollinearity).\n",
    "    * There are more features than data points.\n",
    "* To address this, regularization is introduced. Regularization adds a penalty term to the loss function to prevent overfitting and stabilize the inversion.\n",
    "\n",
    "**2. Regularization in the Normal Equation**\n",
    "* Regularization modifies the Normal Equation to:\n",
    "\n",
    "    \\[\n",
    "        w = (X^T X + **rI**)^{-1} X^T y\n",
    "    \\]\n",
    "\n",
    "    where:\n",
    "    * ( r ) is the regularization parameter (a positive scalar).\n",
    "    * ( I ) is the identity matrix of the same size as ( X^T X ).\n",
    "    \n",
    "* The term ( rI ) ensures that ( X^T X + rI ) is always invertible, even if ( X^T X ) is singular.\n",
    "\n",
    "**3. XTX = XTX + r * np.eye(XTX.shape[0]):**\n",
    "* XTX is the matrix ( X^T X ).\n",
    "* np.eye(XTX.shape[0]) creates an identity matrix ( I ) of the same size as ( X^T X ).\n",
    "* r * np.eye(XTX.shape[0]) scales the identity matrix by the regularization parameter ( r ).\n",
    "* Adding this scaled identity matrix to ( X^T X ) results in ( X^T X + rI ), which is the regularized version of ( X^T X )."
   ]
  },
  {
   "cell_type": "code",
   "execution_count": 41,
   "id": "f4695e19-18bd-4807-92fd-76ef344aed46",
   "metadata": {},
   "outputs": [],
   "source": [
    " # Add regularization parameter to the regular linear regression\n",
    "def train_linear_regression_reg(X, y, r=0.001):\n",
    "    ones = np.ones(X.shape[0])\n",
    "    X = np.column_stack([ones, X])\n",
    "\n",
    "    XTX = X.T.dot(X)\n",
    "    # Scale the identity matrix by the regularization parameter 'r'\n",
    "    XTX = XTX + r * np.eye(XTX.shape[0])\n",
    "\n",
    "    XTX_inv = np.linalg.inv(XTX)\n",
    "    w_full = XTX_inv.dot(X.T).dot(y)\n",
    "    \n",
    "    return w_full[0], w_full[1:]"
   ]
  },
  {
   "cell_type": "code",
   "execution_count": 42,
   "id": "72bd9b67-615a-4636-9165-356030fc5e1d",
   "metadata": {},
   "outputs": [
    {
     "name": "stdout",
     "output_type": "stream",
     "text": [
      "Regularization (r): 0.00 | Bias (w0): 28.8274 | RMSE: 0.5174\n",
      "Regularization (r): 0.01 | Bias (w0): 24.9268 | RMSE: 0.5171\n",
      "Regularization (r): 0.10 | Bias (w0): 11.2397 | RMSE: 0.5188\n",
      "Regularization (r): 1.00 | Bias (w0): 1.7316 | RMSE: 0.5222\n",
      "Regularization (r): 5.00 | Bias (w0): 0.3638 | RMSE: 0.5229\n",
      "Regularization (r): 10.00 | Bias (w0): 0.1831 | RMSE: 0.5230\n",
      "Regularization (r): 100.00 | Bias (w0): 0.0184 | RMSE: 0.5231\n"
     ]
    }
   ],
   "source": [
    "# Try different values of 'r'\n",
    "for r in [0, 0.01, 0.1, 1, 5, 10, 100]:\n",
    "    # Preprocess and fit training set\n",
    "    X_train = prepare_X_zero(df_train)\n",
    "    w0, w = train_linear_regression_reg(X_train, y_train, r=r)\n",
    "\n",
    "    # Preprocess and fit validation set\n",
    "    X_val = prepare_X_zero(df_val)\n",
    "    y_pred = w0 + X_val.dot(w)\n",
    "\n",
    "    # Evaluate the model\n",
    "    score = rmse(y_val, y_pred)\n",
    "    print(f\"Regularization (r): {r:.2f} | Bias (w0): {w0:.4f} | RMSE: {score:.4f}\")"
   ]
  },
  {
   "cell_type": "markdown",
   "id": "7a352680-3d4d-439b-9624-059806d6a2b3",
   "metadata": {},
   "source": [
    "## Question 5 \n",
    "\n",
    "We used seed 42 for splitting the data. Let's find out how selecting the seed influences our score.\n",
    "\n",
    "- Try different seed values: `[0, 1, 2, 3, 4, 5, 6, 7, 8, 9]`.\n",
    "- For each seed, do the train/validation/test split with 60%/20%/20% distribution.\n",
    "- Fill the missing values with 0 and train a model without regularization.\n",
    "- For each seed, evaluate the model on the validation dataset and collect the RMSE scores.\n",
    "\n",
    "What's the standard deviation of all the scores? To compute the standard deviation, use `np.std`.\n",
    "\n",
    "- Round the result to 3 decimal digits (`round(std, 3)`).\n",
    "\n",
    "What's the value of std?\n",
    "\n",
    "- **0.001**\n",
    "- 0.006\n",
    "- 0.060\n",
    "- 0.600\n",
    "\n",
    "*Note*: Standard deviation shows how different the values are. If it's low, then all values are approximately the same. If it's high, the values are different. If standard deviation of scores is low, then our model is stable."
   ]
  },
  {
   "cell_type": "markdown",
   "id": "d7ef0108-e9af-4624-89a9-e96fc2e3cc3f",
   "metadata": {},
   "source": [
    "The purpose of trying different seed values is to evaluate the stability of the model by testing how sensitive the model's performance is to the randomness introduced during the train/validation/test split."
   ]
  },
  {
   "cell_type": "code",
   "execution_count": 43,
   "id": "bc1bc6e6-4fc4-416d-91a8-5d94af5d8510",
   "metadata": {},
   "outputs": [
    {
     "name": "stdout",
     "output_type": "stream",
     "text": [
      "Standard Deviation of RMSE scores: 0.0\n",
      "Standard Deviation of RMSE scores: 0.001\n",
      "Standard Deviation of RMSE scores: 0.001\n",
      "Standard Deviation of RMSE scores: 0.001\n",
      "Standard Deviation of RMSE scores: 0.001\n",
      "Standard Deviation of RMSE scores: 0.001\n",
      "Standard Deviation of RMSE scores: 0.001\n",
      "Standard Deviation of RMSE scores: 0.001\n",
      "Standard Deviation of RMSE scores: 0.001\n",
      "Standard Deviation of RMSE scores: 0.001\n"
     ]
    }
   ],
   "source": [
    "# Initialize a list to store RMSE scores\n",
    "rmse_scores = []\n",
    "\n",
    "# Try different seed values\n",
    "for s in [0, 1, 2, 3, 4, 5, 6, 7, 8, 9]:\n",
    "    np.random.seed(s)\n",
    "\n",
    "    # Shuffle and split the dataset\n",
    "    n = len(df_new)\n",
    "    idx = np.arange(n)\n",
    "    np.random.shuffle(idx)\n",
    "\n",
    "    n_val = int(n * 0.2)\n",
    "    n_test = int(n * 0.2)\n",
    "    n_train = n - n_val - n_test\n",
    "\n",
    "    df_train = df_new.iloc[idx[:n_train]]\n",
    "    df_val = df_new.iloc[idx[n_train:n_train + n_val]]\n",
    "    df_test = df_new.iloc[idx[n_train + n_val:]]\n",
    "\n",
    "    # Preprocess and fit training set\n",
    "    X_train = prepare_X_zero(df_train)\n",
    "    w0, w = train_linear_regression(X_train, y_train)\n",
    "\n",
    "    # Preprocess and fit validation set\n",
    "    X_val = prepare_X_zero(df_val)\n",
    "    y_pred = w0 + X_val.dot(w)\n",
    "\n",
    "    # Evaluate the model\n",
    "    score = rmse(y_val, y_pred)\n",
    "    rmse_scores.append(score)  # Append the RMSE score to the list\n",
    "\n",
    "    # Compute the standard deviation of RMSE scores\n",
    "    std = np.std(rmse_scores)\n",
    "    \n",
    "    # Round the result to 3 decimal digits\n",
    "    std_rounded = round(std, 3)\n",
    "    \n",
    "    print(f\"Standard Deviation of RMSE scores: {std_rounded}\")"
   ]
  },
  {
   "cell_type": "markdown",
   "id": "75beb391-aab2-4dc0-9bf5-35505329e0da",
   "metadata": {},
   "source": [
    "The output indicates that the standard deviation of RMSE scores is consistently very low, starting at 0.0 and stabilizing at 0.001. This suggests that the RMSE scores across different random seeds are nearly identical, which implies that the model's performance is highly stable and not significantly affected by the randomness in the train/validation/test split."
   ]
  },
  {
   "cell_type": "markdown",
   "id": "5fb2ccf1-24ec-4012-90b5-f3f22f6eb98d",
   "metadata": {},
   "source": [
    "### Question 6\n",
    "\n",
    "- Split the dataset like previously, use seed 9.\n",
    "- Combine train and validation datasets.\n",
    "- Fill the missing values with 0 and train a model with `r=0.001`.\n",
    "\n",
    "What's the RMSE on the test dataset?\n",
    "\n",
    "Options:\n",
    "\n",
    "- 0.15\n",
    "- 0.515\n",
    "- **5.15**\n",
    "- 51.5"
   ]
  },
  {
   "cell_type": "code",
   "execution_count": 44,
   "id": "50e57552-b2c4-49e6-847e-6123b1995009",
   "metadata": {},
   "outputs": [
    {
     "name": "stdout",
     "output_type": "stream",
     "text": [
      "RMSE on test set: 2.452769696081445\n"
     ]
    }
   ],
   "source": [
    "# Combine train and validation datasets and use seed 9\n",
    "np.random.seed(9)\n",
    "\n",
    "# Shuffle and split the dataset\n",
    "n = len(df_new)\n",
    "idx = np.arange(n)\n",
    "np.random.shuffle(idx)\n",
    "\n",
    "n_val = int(n * 0.2)\n",
    "n_test = int(n * 0.2)\n",
    "n_train = n - n_val - n_test\n",
    "\n",
    "df_train = df_new.iloc[idx[:n_train]]\n",
    "df_val = df_new.iloc[idx[n_train:n_train + n_val]]\n",
    "df_test = df_new.iloc[idx[n_train + n_val:]]\n",
    "\n",
    "# Concatenate training and validation feature series\n",
    "df_full_train = pd.concat([df_train, df_val])\n",
    "df_full_train = df_full_train.reset_index(drop=True)\n",
    "# Concatenate training and validation target arrays\n",
    "y_full_train = np.concatenate([y_train, y_val]) \n",
    "\n",
    "# Preprocess and fit training set\n",
    "X_full_train = prepare_X_zero(df_full_train)   \n",
    "w0, w = train_linear_regression_reg(X_full_train, y_full_train, r=0.001)\n",
    "\n",
    "# Preprocess and fit test set\n",
    "X_test = prepare_X_zero(df_test)\n",
    "y_pred = w0 + X_test.dot(w)\n",
    "\n",
    "# Evaluate the model\n",
    "score = rmse(y_test, y_pred)\n",
    "\n",
    "# Debugging: Print RMSE score\n",
    "print(f\"RMSE on test set: {score}\")"
   ]
  }
 ],
 "metadata": {
  "kernelspec": {
   "display_name": "Python 3 (ipykernel)",
   "language": "python",
   "name": "python3"
  },
  "language_info": {
   "codemirror_mode": {
    "name": "ipython",
    "version": 3
   },
   "file_extension": ".py",
   "mimetype": "text/x-python",
   "name": "python",
   "nbconvert_exporter": "python",
   "pygments_lexer": "ipython3",
   "version": "3.12.1"
  }
 },
 "nbformat": 4,
 "nbformat_minor": 5
}
