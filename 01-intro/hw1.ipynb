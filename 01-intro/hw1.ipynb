{
 "cells": [
  {
   "cell_type": "markdown",
   "id": "36c9a3e9-2ec2-4f5b-9507-879f1686fbed",
   "metadata": {},
   "source": [
    "## Q1. Pandas version\n",
    "\n",
    "What's the version of Pandas that you installed?\n",
    "You can get the version information using the __version__ field:"
   ]
  },
  {
   "cell_type": "code",
   "execution_count": 1,
   "id": "025436d4-79fc-4b71-890b-4165676c42f9",
   "metadata": {},
   "outputs": [
    {
     "data": {
      "text/plain": [
       "'2.3.1'"
      ]
     },
     "execution_count": 1,
     "metadata": {},
     "output_type": "execute_result"
    }
   ],
   "source": [
    "import pandas as pd\n",
    "pd.__version__"
   ]
  },
  {
   "cell_type": "markdown",
   "id": "657ecb53-acfa-45b5-b1b2-cfd01ef5b6eb",
   "metadata": {},
   "source": [
    "### Getting the data\n",
    "For this homework, we'll use the Car Fuel Efficiency dataset. Download it from here.\n",
    "You can do it with wget or just open it with your browser and click \"Save as...\".\n",
    "Now read it with Pandas.\n"
   ]
  },
  {
   "cell_type": "code",
   "execution_count": 2,
   "id": "7ac10d43-fcc2-4f30-82b7-2cc270df2bee",
   "metadata": {},
   "outputs": [],
   "source": [
    "df = pd.read_csv('https://raw.githubusercontent.com/alexeygrigorev/datasets/master/car_fuel_efficiency.csv')"
   ]
  },
  {
   "cell_type": "code",
   "execution_count": 3,
   "id": "63d2d9d6-6878-4a6a-9f26-17b9be38e574",
   "metadata": {},
   "outputs": [
    {
     "data": {
      "text/html": [
       "<div>\n",
       "<style scoped>\n",
       "    .dataframe tbody tr th:only-of-type {\n",
       "        vertical-align: middle;\n",
       "    }\n",
       "\n",
       "    .dataframe tbody tr th {\n",
       "        vertical-align: top;\n",
       "    }\n",
       "\n",
       "    .dataframe thead th {\n",
       "        text-align: right;\n",
       "    }\n",
       "</style>\n",
       "<table border=\"1\" class=\"dataframe\">\n",
       "  <thead>\n",
       "    <tr style=\"text-align: right;\">\n",
       "      <th></th>\n",
       "      <th>engine_displacement</th>\n",
       "      <th>num_cylinders</th>\n",
       "      <th>horsepower</th>\n",
       "      <th>vehicle_weight</th>\n",
       "      <th>acceleration</th>\n",
       "      <th>model_year</th>\n",
       "      <th>origin</th>\n",
       "      <th>fuel_type</th>\n",
       "      <th>drivetrain</th>\n",
       "      <th>num_doors</th>\n",
       "      <th>fuel_efficiency_mpg</th>\n",
       "    </tr>\n",
       "  </thead>\n",
       "  <tbody>\n",
       "    <tr>\n",
       "      <th>0</th>\n",
       "      <td>170</td>\n",
       "      <td>3.0</td>\n",
       "      <td>159.0</td>\n",
       "      <td>3413.433759</td>\n",
       "      <td>17.7</td>\n",
       "      <td>2003</td>\n",
       "      <td>Europe</td>\n",
       "      <td>Gasoline</td>\n",
       "      <td>All-wheel drive</td>\n",
       "      <td>0.0</td>\n",
       "      <td>13.231729</td>\n",
       "    </tr>\n",
       "    <tr>\n",
       "      <th>1</th>\n",
       "      <td>130</td>\n",
       "      <td>5.0</td>\n",
       "      <td>97.0</td>\n",
       "      <td>3149.664934</td>\n",
       "      <td>17.8</td>\n",
       "      <td>2007</td>\n",
       "      <td>USA</td>\n",
       "      <td>Gasoline</td>\n",
       "      <td>Front-wheel drive</td>\n",
       "      <td>0.0</td>\n",
       "      <td>13.688217</td>\n",
       "    </tr>\n",
       "    <tr>\n",
       "      <th>2</th>\n",
       "      <td>170</td>\n",
       "      <td>NaN</td>\n",
       "      <td>78.0</td>\n",
       "      <td>3079.038997</td>\n",
       "      <td>15.1</td>\n",
       "      <td>2018</td>\n",
       "      <td>Europe</td>\n",
       "      <td>Gasoline</td>\n",
       "      <td>Front-wheel drive</td>\n",
       "      <td>0.0</td>\n",
       "      <td>14.246341</td>\n",
       "    </tr>\n",
       "    <tr>\n",
       "      <th>3</th>\n",
       "      <td>220</td>\n",
       "      <td>4.0</td>\n",
       "      <td>NaN</td>\n",
       "      <td>2542.392402</td>\n",
       "      <td>20.2</td>\n",
       "      <td>2009</td>\n",
       "      <td>USA</td>\n",
       "      <td>Diesel</td>\n",
       "      <td>All-wheel drive</td>\n",
       "      <td>2.0</td>\n",
       "      <td>16.912736</td>\n",
       "    </tr>\n",
       "    <tr>\n",
       "      <th>4</th>\n",
       "      <td>210</td>\n",
       "      <td>1.0</td>\n",
       "      <td>140.0</td>\n",
       "      <td>3460.870990</td>\n",
       "      <td>14.4</td>\n",
       "      <td>2009</td>\n",
       "      <td>Europe</td>\n",
       "      <td>Gasoline</td>\n",
       "      <td>All-wheel drive</td>\n",
       "      <td>2.0</td>\n",
       "      <td>12.488369</td>\n",
       "    </tr>\n",
       "  </tbody>\n",
       "</table>\n",
       "</div>"
      ],
      "text/plain": [
       "   engine_displacement  num_cylinders  horsepower  vehicle_weight  \\\n",
       "0                  170            3.0       159.0     3413.433759   \n",
       "1                  130            5.0        97.0     3149.664934   \n",
       "2                  170            NaN        78.0     3079.038997   \n",
       "3                  220            4.0         NaN     2542.392402   \n",
       "4                  210            1.0       140.0     3460.870990   \n",
       "\n",
       "   acceleration  model_year  origin fuel_type         drivetrain  num_doors  \\\n",
       "0          17.7        2003  Europe  Gasoline    All-wheel drive        0.0   \n",
       "1          17.8        2007     USA  Gasoline  Front-wheel drive        0.0   \n",
       "2          15.1        2018  Europe  Gasoline  Front-wheel drive        0.0   \n",
       "3          20.2        2009     USA    Diesel    All-wheel drive        2.0   \n",
       "4          14.4        2009  Europe  Gasoline    All-wheel drive        2.0   \n",
       "\n",
       "   fuel_efficiency_mpg  \n",
       "0            13.231729  \n",
       "1            13.688217  \n",
       "2            14.246341  \n",
       "3            16.912736  \n",
       "4            12.488369  "
      ]
     },
     "execution_count": 3,
     "metadata": {},
     "output_type": "execute_result"
    }
   ],
   "source": [
    "df.head()"
   ]
  },
  {
   "cell_type": "markdown",
   "id": "2dd1a25a-b603-46a3-ab0f-e52391a1bef3",
   "metadata": {},
   "source": [
    "## Q2. Records count\n",
    "How many records are in the dataset?\n",
    "\n",
    "* 4704\n",
    "* 8704\n",
    "* **9704**\n",
    "* 17704"
   ]
  },
  {
   "cell_type": "code",
   "execution_count": 4,
   "id": "82a960f3-d3c5-4357-8d23-c17591855208",
   "metadata": {},
   "outputs": [
    {
     "data": {
      "text/plain": [
       "(9704, 11)"
      ]
     },
     "execution_count": 4,
     "metadata": {},
     "output_type": "execute_result"
    }
   ],
   "source": [
    "df.shape"
   ]
  },
  {
   "cell_type": "markdown",
   "id": "b2f3e950-6d53-438f-ab59-beec2187ba4d",
   "metadata": {},
   "source": [
    "## Q3. Fuel types\n",
    "How many fuel types are presented in the dataset?\n",
    "\n",
    "* 1\n",
    "* **2**\n",
    "* 3\n",
    "* 4"
   ]
  },
  {
   "cell_type": "code",
   "execution_count": 5,
   "id": "cfe9b3c4-29b9-4f24-9069-1b6ce8e8f8ae",
   "metadata": {},
   "outputs": [
    {
     "data": {
      "text/plain": [
       "2"
      ]
     },
     "execution_count": 5,
     "metadata": {},
     "output_type": "execute_result"
    }
   ],
   "source": [
    "df.fuel_type.nunique()"
   ]
  },
  {
   "cell_type": "markdown",
   "id": "4517c155-bd93-4c29-8c12-15088323a20d",
   "metadata": {},
   "source": [
    "## Q4. Missing values\n",
    "How many columns in the dataset have missing values?\n",
    "\n",
    "* 0\n",
    "* 1\n",
    "* 2\n",
    "* 3\n",
    "* **4**"
   ]
  },
  {
   "cell_type": "code",
   "execution_count": 6,
   "id": "572f5dc7-a363-4ed3-a88f-9b08945298a7",
   "metadata": {},
   "outputs": [
    {
     "data": {
      "text/plain": [
       "engine_displacement      0\n",
       "num_cylinders          482\n",
       "horsepower             708\n",
       "vehicle_weight           0\n",
       "acceleration           930\n",
       "model_year               0\n",
       "origin                   0\n",
       "fuel_type                0\n",
       "drivetrain               0\n",
       "num_doors              502\n",
       "fuel_efficiency_mpg      0\n",
       "dtype: int64"
      ]
     },
     "execution_count": 6,
     "metadata": {},
     "output_type": "execute_result"
    }
   ],
   "source": [
    "df.isnull().sum()"
   ]
  },
  {
   "cell_type": "markdown",
   "id": "5c4ba871-8413-441b-b0a5-68eb9bcfd11a",
   "metadata": {},
   "source": [
    "## Q5. Max fuel efficiency\n",
    "What's the maximum fuel efficiency of cars from Asia?\n",
    "\n",
    "* 13.75\n",
    "* **23.75**\n",
    "* 33.75\n",
    "* 43.75"
   ]
  },
  {
   "cell_type": "code",
   "execution_count": 7,
   "id": "02429c9d-bb5b-405b-acb7-94d75a4729bf",
   "metadata": {},
   "outputs": [
    {
     "data": {
      "text/plain": [
       "origin\n",
       "Asia      23.759123\n",
       "Europe    25.967222\n",
       "USA       24.971452\n",
       "Name: fuel_efficiency_mpg, dtype: float64"
      ]
     },
     "execution_count": 7,
     "metadata": {},
     "output_type": "execute_result"
    }
   ],
   "source": [
    "df.groupby('origin').fuel_efficiency_mpg.max()"
   ]
  },
  {
   "cell_type": "markdown",
   "id": "224dd7f3-2f6d-4a4f-b93b-c71dc7f88adb",
   "metadata": {},
   "source": [
    "## Q6. Median value of horsepower\n",
    "1. Find the median value of horsepower column in the dataset.\n",
    "2. Next, calculate the most frequent value of the same horsepower column.\n",
    "3. Use fillna method to fill the missing values in horsepower column with the most frequent value from the previous step.\n",
    "4. Now, calculate the median value of horsepower once again.\n",
    "Has it changed?\n",
    "\n",
    "* Yes, it increased\n",
    "* Yes, it decreased\n",
    "* **No**"
   ]
  },
  {
   "cell_type": "code",
   "execution_count": 8,
   "id": "5b40d942-fcaa-47e8-bdf7-1f3bc4bfb035",
   "metadata": {},
   "outputs": [
    {
     "data": {
      "text/plain": [
       "np.float64(149.0)"
      ]
     },
     "execution_count": 8,
     "metadata": {},
     "output_type": "execute_result"
    }
   ],
   "source": [
    "# Find the median value of horsepower column in the dataset.\n",
    "df.horsepower.median()"
   ]
  },
  {
   "cell_type": "code",
   "execution_count": 9,
   "id": "802f4d85-da5c-4cff-bff6-5016cb9fa33c",
   "metadata": {},
   "outputs": [
    {
     "data": {
      "text/plain": [
       "horsepower\n",
       "152.0    142\n",
       "145.0    141\n",
       "151.0    134\n",
       "148.0    130\n",
       "141.0    130\n",
       "        ... \n",
       "40.0       1\n",
       "57.0       1\n",
       "245.0      1\n",
       "252.0      1\n",
       "61.0       1\n",
       "Name: count, Length: 192, dtype: int64"
      ]
     },
     "execution_count": 9,
     "metadata": {},
     "output_type": "execute_result"
    }
   ],
   "source": [
    "# Calculate the most frequent value of the same horsepower column.\n",
    "df.horsepower.value_counts()"
   ]
  },
  {
   "cell_type": "code",
   "execution_count": 10,
   "id": "f9ab4d25-61bb-4bf5-98fa-ba061b5b790c",
   "metadata": {},
   "outputs": [
    {
     "data": {
      "text/plain": [
       "0       159.0\n",
       "1        97.0\n",
       "2        78.0\n",
       "3       152.0\n",
       "4       140.0\n",
       "        ...  \n",
       "9699    164.0\n",
       "9700    154.0\n",
       "9701    138.0\n",
       "9702    177.0\n",
       "9703    140.0\n",
       "Name: horsepower, Length: 9704, dtype: float64"
      ]
     },
     "execution_count": 10,
     "metadata": {},
     "output_type": "execute_result"
    }
   ],
   "source": [
    "# Use fillna method to fill the missing values in horsepower column with the most frequent value from the previous step.\n",
    "df.horsepower.fillna(152.0)"
   ]
  },
  {
   "cell_type": "code",
   "execution_count": 11,
   "id": "c07957cf-aec3-44c9-99ac-0b3fe381beb0",
   "metadata": {},
   "outputs": [
    {
     "data": {
      "text/plain": [
       "np.float64(149.0)"
      ]
     },
     "execution_count": 11,
     "metadata": {},
     "output_type": "execute_result"
    }
   ],
   "source": [
    "# Now, calculate the median value of horsepower once again. Has it changed?\n",
    "df.horsepower.median()"
   ]
  },
  {
   "cell_type": "markdown",
   "id": "295bb786-e9a9-4c53-af2f-c07d1c391bbd",
   "metadata": {},
   "source": [
    "## Q7. Sum of weights\n",
    "1. Select all the cars from Asia\n",
    "2. Select only columns vehicle_weight and model_year\n",
    "3. Select the first 7 values\n",
    "4. Get the underlying NumPy array. Let's call it X.\n",
    "5. Compute matrix-matrix multiplication between the transpose of X and X. To get the transpose, use X.T. Let's call the result XTX.\n",
    "6. Invert XTX.\n",
    "7. Create an array y with values [1100, 1300, 800, 900, 1000, 1100, 1200].\n",
    "8. Multiply the inverse of XTX with the transpose of X, and then multiply the result by y. Call the result w.\n",
    "9. What's the sum of all the elements of the result?\n",
    "\n",
    "Note: You just implemented linear regression. We'll talk about it in the next lesson.\n",
    "\n",
    "* 0.051\n",
    "* **0.51**\n",
    "* 5.1\n",
    "* 51"
   ]
  },
  {
   "cell_type": "code",
   "execution_count": 12,
   "id": "62989474-ed5c-4bb0-ab10-6ba90ad63ec6",
   "metadata": {},
   "outputs": [],
   "source": [
    "# Select all the cars from Asia\n",
    "result = df[df['origin'] == 'Asia']"
   ]
  },
  {
   "cell_type": "code",
   "execution_count": 13,
   "id": "c68ddd1a-6247-4d13-b668-0b11d3cb7d8d",
   "metadata": {},
   "outputs": [
    {
     "data": {
      "text/html": [
       "<div>\n",
       "<style scoped>\n",
       "    .dataframe tbody tr th:only-of-type {\n",
       "        vertical-align: middle;\n",
       "    }\n",
       "\n",
       "    .dataframe tbody tr th {\n",
       "        vertical-align: top;\n",
       "    }\n",
       "\n",
       "    .dataframe thead th {\n",
       "        text-align: right;\n",
       "    }\n",
       "</style>\n",
       "<table border=\"1\" class=\"dataframe\">\n",
       "  <thead>\n",
       "    <tr style=\"text-align: right;\">\n",
       "      <th></th>\n",
       "      <th>engine_displacement</th>\n",
       "      <th>num_cylinders</th>\n",
       "      <th>horsepower</th>\n",
       "      <th>vehicle_weight</th>\n",
       "      <th>acceleration</th>\n",
       "      <th>model_year</th>\n",
       "      <th>origin</th>\n",
       "      <th>fuel_type</th>\n",
       "      <th>drivetrain</th>\n",
       "      <th>num_doors</th>\n",
       "      <th>fuel_efficiency_mpg</th>\n",
       "    </tr>\n",
       "  </thead>\n",
       "  <tbody>\n",
       "    <tr>\n",
       "      <th>8</th>\n",
       "      <td>250</td>\n",
       "      <td>1.0</td>\n",
       "      <td>174.0</td>\n",
       "      <td>2714.219310</td>\n",
       "      <td>10.3</td>\n",
       "      <td>2016</td>\n",
       "      <td>Asia</td>\n",
       "      <td>Diesel</td>\n",
       "      <td>Front-wheel drive</td>\n",
       "      <td>-1.0</td>\n",
       "      <td>16.823554</td>\n",
       "    </tr>\n",
       "    <tr>\n",
       "      <th>12</th>\n",
       "      <td>320</td>\n",
       "      <td>5.0</td>\n",
       "      <td>145.0</td>\n",
       "      <td>2783.868974</td>\n",
       "      <td>15.1</td>\n",
       "      <td>2010</td>\n",
       "      <td>Asia</td>\n",
       "      <td>Diesel</td>\n",
       "      <td>All-wheel drive</td>\n",
       "      <td>1.0</td>\n",
       "      <td>16.175820</td>\n",
       "    </tr>\n",
       "    <tr>\n",
       "      <th>14</th>\n",
       "      <td>200</td>\n",
       "      <td>6.0</td>\n",
       "      <td>160.0</td>\n",
       "      <td>3582.687368</td>\n",
       "      <td>14.9</td>\n",
       "      <td>2007</td>\n",
       "      <td>Asia</td>\n",
       "      <td>Diesel</td>\n",
       "      <td>All-wheel drive</td>\n",
       "      <td>0.0</td>\n",
       "      <td>11.871091</td>\n",
       "    </tr>\n",
       "    <tr>\n",
       "      <th>20</th>\n",
       "      <td>150</td>\n",
       "      <td>3.0</td>\n",
       "      <td>197.0</td>\n",
       "      <td>2231.808142</td>\n",
       "      <td>18.7</td>\n",
       "      <td>2011</td>\n",
       "      <td>Asia</td>\n",
       "      <td>Gasoline</td>\n",
       "      <td>Front-wheel drive</td>\n",
       "      <td>1.0</td>\n",
       "      <td>18.889083</td>\n",
       "    </tr>\n",
       "    <tr>\n",
       "      <th>21</th>\n",
       "      <td>160</td>\n",
       "      <td>4.0</td>\n",
       "      <td>133.0</td>\n",
       "      <td>2659.431451</td>\n",
       "      <td>NaN</td>\n",
       "      <td>2016</td>\n",
       "      <td>Asia</td>\n",
       "      <td>Gasoline</td>\n",
       "      <td>Front-wheel drive</td>\n",
       "      <td>-1.0</td>\n",
       "      <td>16.077730</td>\n",
       "    </tr>\n",
       "    <tr>\n",
       "      <th>...</th>\n",
       "      <td>...</td>\n",
       "      <td>...</td>\n",
       "      <td>...</td>\n",
       "      <td>...</td>\n",
       "      <td>...</td>\n",
       "      <td>...</td>\n",
       "      <td>...</td>\n",
       "      <td>...</td>\n",
       "      <td>...</td>\n",
       "      <td>...</td>\n",
       "      <td>...</td>\n",
       "    </tr>\n",
       "    <tr>\n",
       "      <th>9688</th>\n",
       "      <td>260</td>\n",
       "      <td>4.0</td>\n",
       "      <td>NaN</td>\n",
       "      <td>3948.404625</td>\n",
       "      <td>15.5</td>\n",
       "      <td>2018</td>\n",
       "      <td>Asia</td>\n",
       "      <td>Diesel</td>\n",
       "      <td>All-wheel drive</td>\n",
       "      <td>-1.0</td>\n",
       "      <td>11.054830</td>\n",
       "    </tr>\n",
       "    <tr>\n",
       "      <th>9692</th>\n",
       "      <td>180</td>\n",
       "      <td>3.0</td>\n",
       "      <td>188.0</td>\n",
       "      <td>3680.341381</td>\n",
       "      <td>18.0</td>\n",
       "      <td>2016</td>\n",
       "      <td>Asia</td>\n",
       "      <td>Gasoline</td>\n",
       "      <td>Front-wheel drive</td>\n",
       "      <td>1.0</td>\n",
       "      <td>11.711653</td>\n",
       "    </tr>\n",
       "    <tr>\n",
       "      <th>9693</th>\n",
       "      <td>280</td>\n",
       "      <td>2.0</td>\n",
       "      <td>148.0</td>\n",
       "      <td>2545.070139</td>\n",
       "      <td>15.6</td>\n",
       "      <td>2012</td>\n",
       "      <td>Asia</td>\n",
       "      <td>Diesel</td>\n",
       "      <td>All-wheel drive</td>\n",
       "      <td>0.0</td>\n",
       "      <td>17.202782</td>\n",
       "    </tr>\n",
       "    <tr>\n",
       "      <th>9698</th>\n",
       "      <td>180</td>\n",
       "      <td>1.0</td>\n",
       "      <td>131.0</td>\n",
       "      <td>3107.427820</td>\n",
       "      <td>13.2</td>\n",
       "      <td>2005</td>\n",
       "      <td>Asia</td>\n",
       "      <td>Gasoline</td>\n",
       "      <td>Front-wheel drive</td>\n",
       "      <td>-2.0</td>\n",
       "      <td>13.933716</td>\n",
       "    </tr>\n",
       "    <tr>\n",
       "      <th>9703</th>\n",
       "      <td>270</td>\n",
       "      <td>3.0</td>\n",
       "      <td>140.0</td>\n",
       "      <td>2908.043477</td>\n",
       "      <td>14.7</td>\n",
       "      <td>2005</td>\n",
       "      <td>Asia</td>\n",
       "      <td>Diesel</td>\n",
       "      <td>All-wheel drive</td>\n",
       "      <td>-1.0</td>\n",
       "      <td>14.884467</td>\n",
       "    </tr>\n",
       "  </tbody>\n",
       "</table>\n",
       "<p>3247 rows × 11 columns</p>\n",
       "</div>"
      ],
      "text/plain": [
       "      engine_displacement  num_cylinders  horsepower  vehicle_weight  \\\n",
       "8                     250            1.0       174.0     2714.219310   \n",
       "12                    320            5.0       145.0     2783.868974   \n",
       "14                    200            6.0       160.0     3582.687368   \n",
       "20                    150            3.0       197.0     2231.808142   \n",
       "21                    160            4.0       133.0     2659.431451   \n",
       "...                   ...            ...         ...             ...   \n",
       "9688                  260            4.0         NaN     3948.404625   \n",
       "9692                  180            3.0       188.0     3680.341381   \n",
       "9693                  280            2.0       148.0     2545.070139   \n",
       "9698                  180            1.0       131.0     3107.427820   \n",
       "9703                  270            3.0       140.0     2908.043477   \n",
       "\n",
       "      acceleration  model_year origin fuel_type         drivetrain  num_doors  \\\n",
       "8             10.3        2016   Asia    Diesel  Front-wheel drive       -1.0   \n",
       "12            15.1        2010   Asia    Diesel    All-wheel drive        1.0   \n",
       "14            14.9        2007   Asia    Diesel    All-wheel drive        0.0   \n",
       "20            18.7        2011   Asia  Gasoline  Front-wheel drive        1.0   \n",
       "21             NaN        2016   Asia  Gasoline  Front-wheel drive       -1.0   \n",
       "...            ...         ...    ...       ...                ...        ...   \n",
       "9688          15.5        2018   Asia    Diesel    All-wheel drive       -1.0   \n",
       "9692          18.0        2016   Asia  Gasoline  Front-wheel drive        1.0   \n",
       "9693          15.6        2012   Asia    Diesel    All-wheel drive        0.0   \n",
       "9698          13.2        2005   Asia  Gasoline  Front-wheel drive       -2.0   \n",
       "9703          14.7        2005   Asia    Diesel    All-wheel drive       -1.0   \n",
       "\n",
       "      fuel_efficiency_mpg  \n",
       "8               16.823554  \n",
       "12              16.175820  \n",
       "14              11.871091  \n",
       "20              18.889083  \n",
       "21              16.077730  \n",
       "...                   ...  \n",
       "9688            11.054830  \n",
       "9692            11.711653  \n",
       "9693            17.202782  \n",
       "9698            13.933716  \n",
       "9703            14.884467  \n",
       "\n",
       "[3247 rows x 11 columns]"
      ]
     },
     "execution_count": 13,
     "metadata": {},
     "output_type": "execute_result"
    }
   ],
   "source": [
    "result"
   ]
  },
  {
   "cell_type": "code",
   "execution_count": 14,
   "id": "27d69d04-2ede-453f-9917-53716c2d4f64",
   "metadata": {},
   "outputs": [],
   "source": [
    "# Select only columns vehicle_weight and model_year\n",
    "result = result[['vehicle_weight', 'model_year']]"
   ]
  },
  {
   "cell_type": "code",
   "execution_count": 15,
   "id": "56b4ae32-b508-4d6c-87cc-05120b47f6ff",
   "metadata": {},
   "outputs": [],
   "source": [
    "# Select the first 7 values\n",
    "result = result.head(7)"
   ]
  },
  {
   "cell_type": "code",
   "execution_count": 16,
   "id": "482ddd82-9bd8-4c25-9309-3ccd6f7e596d",
   "metadata": {},
   "outputs": [],
   "source": [
    "# Get the underlying NumPy array. Let's call it X.\n",
    "X = result.values"
   ]
  },
  {
   "cell_type": "code",
   "execution_count": 17,
   "id": "5dc20b3b-5563-46ea-8bb8-928a2bbbd07b",
   "metadata": {},
   "outputs": [
    {
     "data": {
      "text/plain": [
       "array([[2714.21930965, 2016.        ],\n",
       "       [2783.86897424, 2010.        ],\n",
       "       [3582.68736772, 2007.        ],\n",
       "       [2231.8081416 , 2011.        ],\n",
       "       [2659.43145076, 2016.        ],\n",
       "       [2844.22753389, 2014.        ],\n",
       "       [3761.99403819, 2019.        ]])"
      ]
     },
     "execution_count": 17,
     "metadata": {},
     "output_type": "execute_result"
    }
   ],
   "source": [
    "X"
   ]
  },
  {
   "cell_type": "code",
   "execution_count": 18,
   "id": "11c505dc-cb1b-440f-89bf-c9e96c0302e5",
   "metadata": {},
   "outputs": [],
   "source": [
    "# Compute matrix-matrix multiplication between the transpose of X and X. To get the transpose, use X.T. Let's call the result XTX.\n",
    "XTX = X.T.dot(X)"
   ]
  },
  {
   "cell_type": "code",
   "execution_count": 19,
   "id": "de5fda15-167f-417b-bcec-e54ce2dbae21",
   "metadata": {},
   "outputs": [
    {
     "data": {
      "text/plain": [
       "array([[62248334.33150762, 41431216.5073268 ],\n",
       "       [41431216.5073268 , 28373339.        ]])"
      ]
     },
     "execution_count": 19,
     "metadata": {},
     "output_type": "execute_result"
    }
   ],
   "source": [
    "XTX"
   ]
  },
  {
   "cell_type": "code",
   "execution_count": 20,
   "id": "31b40ac8-6dd7-41ae-9a7f-a98ab9eec937",
   "metadata": {},
   "outputs": [],
   "source": [
    "import numpy as np\n",
    "\n",
    "# Invert XTX.\n",
    "XTX_I = np.linalg.inv(XTX)"
   ]
  },
  {
   "cell_type": "code",
   "execution_count": 21,
   "id": "f1a856c2-fd85-4a15-b193-7b96783d4e35",
   "metadata": {},
   "outputs": [
    {
     "data": {
      "text/plain": [
       "array([[ 5.71497081e-07, -8.34509443e-07],\n",
       "       [-8.34509443e-07,  1.25380877e-06]])"
      ]
     },
     "execution_count": 21,
     "metadata": {},
     "output_type": "execute_result"
    }
   ],
   "source": [
    "XTX_I"
   ]
  },
  {
   "cell_type": "code",
   "execution_count": 22,
   "id": "ddaef21c-6e16-4860-9bdd-2a818c3932c5",
   "metadata": {},
   "outputs": [],
   "source": [
    "# Create an array y with values [1100, 1300, 800, 900, 1000, 1100, 1200].\n",
    "y = [1100, 1300, 800, 900, 1000, 1100, 1200]"
   ]
  },
  {
   "cell_type": "code",
   "execution_count": 23,
   "id": "c79de9cc-c92c-4eb5-8372-3d79bf870c1f",
   "metadata": {},
   "outputs": [
    {
     "data": {
      "text/plain": [
       "[1100, 1300, 800, 900, 1000, 1100, 1200]"
      ]
     },
     "execution_count": 23,
     "metadata": {},
     "output_type": "execute_result"
    }
   ],
   "source": [
    "y"
   ]
  },
  {
   "cell_type": "code",
   "execution_count": 24,
   "id": "a4b6a212-4d47-4379-9fdd-c31cc2518761",
   "metadata": {},
   "outputs": [],
   "source": [
    "# Multiply the inverse of XTX with the transpose of X, and then multiply the result by y. Call the result w.\n",
    "w = XTX_I.dot(X.T).dot(y)"
   ]
  },
  {
   "cell_type": "code",
   "execution_count": 25,
   "id": "e9b258eb-5cdb-48b5-91d4-7d20d27694e1",
   "metadata": {},
   "outputs": [
    {
     "data": {
      "text/plain": [
       "np.float64(0.5187709081074016)"
      ]
     },
     "execution_count": 25,
     "metadata": {},
     "output_type": "execute_result"
    }
   ],
   "source": [
    "# What's the sum of all the elements of the result?\n",
    "w.sum()"
   ]
  },
  {
   "cell_type": "code",
   "execution_count": null,
   "id": "a652e395-2748-4000-bb22-3f0ab5597bd8",
   "metadata": {},
   "outputs": [],
   "source": []
  }
 ],
 "metadata": {
  "kernelspec": {
   "display_name": "Python 3 (ipykernel)",
   "language": "python",
   "name": "python3"
  },
  "language_info": {
   "codemirror_mode": {
    "name": "ipython",
    "version": 3
   },
   "file_extension": ".py",
   "mimetype": "text/x-python",
   "name": "python",
   "nbconvert_exporter": "python",
   "pygments_lexer": "ipython3",
   "version": "3.12.1"
  }
 },
 "nbformat": 4,
 "nbformat_minor": 5
}
