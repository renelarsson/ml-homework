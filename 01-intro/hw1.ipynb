{
 "cells": [
  {
   "cell_type": "markdown",
   "id": "36c9a3e9-2ec2-4f5b-9507-879f1686fbed",
   "metadata": {},
   "source": [
    "## Q1. Pandas version\n",
    "\n",
    "What's the version of Pandas that you installed?\n",
    "You can get the version information using the __version__ field:"
   ]
  },
  {
   "cell_type": "code",
   "execution_count": 3,
   "id": "025436d4-79fc-4b71-890b-4165676c42f9",
   "metadata": {},
   "outputs": [
    {
     "data": {
      "text/plain": [
       "'2.3.1'"
      ]
     },
     "execution_count": 3,
     "metadata": {},
     "output_type": "execute_result"
    }
   ],
   "source": [
    "import pandas as pd\n",
    "pd.__version__"
   ]
  },
  {
   "cell_type": "markdown",
   "id": "657ecb53-acfa-45b5-b1b2-cfd01ef5b6eb",
   "metadata": {},
   "source": [
    "### Getting the data\n",
    "For this homework, we'll use the Car Fuel Efficiency dataset. Download it from here.\n",
    "\n",
    "You can do it with wget:"
   ]
  },
  {
   "cell_type": "code",
   "execution_count": null,
   "id": "7ac10d43-fcc2-4f30-82b7-2cc270df2bee",
   "metadata": {},
   "outputs": [],
   "source": [
    "df = pd.read_csv(https://raw.githubusercontent.com/alexeygrigorev/datasets/master/car_fuel_efficiency.csv)"
   ]
  }
 ],
 "metadata": {
  "kernelspec": {
   "display_name": "Python 3 (ipykernel)",
   "language": "python",
   "name": "python3"
  },
  "language_info": {
   "codemirror_mode": {
    "name": "ipython",
    "version": 3
   },
   "file_extension": ".py",
   "mimetype": "text/x-python",
   "name": "python",
   "nbconvert_exporter": "python",
   "pygments_lexer": "ipython3",
   "version": "3.12.1"
  }
 },
 "nbformat": 4,
 "nbformat_minor": 5
}
