{
 "cells": [
  {
   "cell_type": "markdown",
   "id": "cfc5649a-73ab-41e5-896f-d31d4447fbb5",
   "metadata": {},
   "source": [
    "### Data preparation\n",
    "\n",
    "* Check if the missing values are presented in the features.\n",
    "* If there are missing values:\n",
    "    * For caterogiral features, replace them with 'NA'\n",
    "    * For numerical features, replace with with 0.0 \n",
    "\n",
    "Split the data into 3 parts: train/validation/test with 60%/20%/20% distribution. Use `train_test_split` function for that with `random_state=1`"
   ]
  },
  {
   "cell_type": "code",
   "execution_count": 1,
   "id": "fc80b3e5-2585-4e13-b2f8-f055ba4caead",
   "metadata": {},
   "outputs": [],
   "source": [
    "import pandas as pd\n",
    "from sklearn.model_selection import train_test_split\n",
    "\n",
    "# Load the dataset\n",
    "url = 'https://raw.githubusercontent.com/alexeygrigorev/datasets/master/course_lead_scoring.csv'\n",
    "df = pd.read_csv(url)"
   ]
  },
  {
   "cell_type": "code",
   "execution_count": 2,
   "id": "3760929a-e5f0-466a-893d-5226ceb950d1",
   "metadata": {},
   "outputs": [
    {
     "data": {
      "text/html": [
       "<div>\n",
       "<style scoped>\n",
       "    .dataframe tbody tr th:only-of-type {\n",
       "        vertical-align: middle;\n",
       "    }\n",
       "\n",
       "    .dataframe tbody tr th {\n",
       "        vertical-align: top;\n",
       "    }\n",
       "\n",
       "    .dataframe thead th {\n",
       "        text-align: right;\n",
       "    }\n",
       "</style>\n",
       "<table border=\"1\" class=\"dataframe\">\n",
       "  <thead>\n",
       "    <tr style=\"text-align: right;\">\n",
       "      <th></th>\n",
       "      <th>lead_source</th>\n",
       "      <th>industry</th>\n",
       "      <th>number_of_courses_viewed</th>\n",
       "      <th>annual_income</th>\n",
       "      <th>employment_status</th>\n",
       "      <th>location</th>\n",
       "      <th>interaction_count</th>\n",
       "      <th>lead_score</th>\n",
       "      <th>converted</th>\n",
       "    </tr>\n",
       "  </thead>\n",
       "  <tbody>\n",
       "    <tr>\n",
       "      <th>0</th>\n",
       "      <td>paid_ads</td>\n",
       "      <td>NaN</td>\n",
       "      <td>1</td>\n",
       "      <td>79450.0</td>\n",
       "      <td>unemployed</td>\n",
       "      <td>south_america</td>\n",
       "      <td>4</td>\n",
       "      <td>0.94</td>\n",
       "      <td>1</td>\n",
       "    </tr>\n",
       "    <tr>\n",
       "      <th>1</th>\n",
       "      <td>social_media</td>\n",
       "      <td>retail</td>\n",
       "      <td>1</td>\n",
       "      <td>46992.0</td>\n",
       "      <td>employed</td>\n",
       "      <td>south_america</td>\n",
       "      <td>1</td>\n",
       "      <td>0.80</td>\n",
       "      <td>0</td>\n",
       "    </tr>\n",
       "    <tr>\n",
       "      <th>2</th>\n",
       "      <td>events</td>\n",
       "      <td>healthcare</td>\n",
       "      <td>5</td>\n",
       "      <td>78796.0</td>\n",
       "      <td>unemployed</td>\n",
       "      <td>australia</td>\n",
       "      <td>3</td>\n",
       "      <td>0.69</td>\n",
       "      <td>1</td>\n",
       "    </tr>\n",
       "    <tr>\n",
       "      <th>3</th>\n",
       "      <td>paid_ads</td>\n",
       "      <td>retail</td>\n",
       "      <td>2</td>\n",
       "      <td>83843.0</td>\n",
       "      <td>NaN</td>\n",
       "      <td>australia</td>\n",
       "      <td>1</td>\n",
       "      <td>0.87</td>\n",
       "      <td>0</td>\n",
       "    </tr>\n",
       "    <tr>\n",
       "      <th>4</th>\n",
       "      <td>referral</td>\n",
       "      <td>education</td>\n",
       "      <td>3</td>\n",
       "      <td>85012.0</td>\n",
       "      <td>self_employed</td>\n",
       "      <td>europe</td>\n",
       "      <td>3</td>\n",
       "      <td>0.62</td>\n",
       "      <td>1</td>\n",
       "    </tr>\n",
       "  </tbody>\n",
       "</table>\n",
       "</div>"
      ],
      "text/plain": [
       "    lead_source    industry  number_of_courses_viewed  annual_income  \\\n",
       "0      paid_ads         NaN                         1        79450.0   \n",
       "1  social_media      retail                         1        46992.0   \n",
       "2        events  healthcare                         5        78796.0   \n",
       "3      paid_ads      retail                         2        83843.0   \n",
       "4      referral   education                         3        85012.0   \n",
       "\n",
       "  employment_status       location  interaction_count  lead_score  converted  \n",
       "0        unemployed  south_america                  4        0.94          1  \n",
       "1          employed  south_america                  1        0.80          0  \n",
       "2        unemployed      australia                  3        0.69          1  \n",
       "3               NaN      australia                  1        0.87          0  \n",
       "4     self_employed         europe                  3        0.62          1  "
      ]
     },
     "execution_count": 2,
     "metadata": {},
     "output_type": "execute_result"
    }
   ],
   "source": [
    "df.head()"
   ]
  },
  {
   "cell_type": "code",
   "execution_count": 3,
   "id": "fbb57fa9-907c-403d-984f-f7fc5d39d3f3",
   "metadata": {},
   "outputs": [
    {
     "name": "stdout",
     "output_type": "stream",
     "text": [
      "lead_source                 128\n",
      "industry                    134\n",
      "number_of_courses_viewed      0\n",
      "annual_income               181\n",
      "employment_status           100\n",
      "location                     63\n",
      "interaction_count             0\n",
      "lead_score                    0\n",
      "converted                     0\n",
      "dtype: int64\n"
     ]
    }
   ],
   "source": [
    "# Check for missing values\n",
    "print(df.isnull().sum())"
   ]
  },
  {
   "cell_type": "code",
   "execution_count": 4,
   "id": "4c2c970c-8d1c-4235-bf78-b3b1bcacd3c0",
   "metadata": {},
   "outputs": [],
   "source": [
    "# Replace missing values\n",
    "for col in df.columns:\n",
    "    if df[col].dtype == 'object':\n",
    "        df[col] = df[col].fillna('NA')\n",
    "    else:\n",
    "        df[col] = df[col].fillna(0.0)"
   ]
  },
  {
   "cell_type": "code",
   "execution_count": 5,
   "id": "01d06b74-c80a-4434-9e3b-eb8a610ab3a7",
   "metadata": {},
   "outputs": [
    {
     "name": "stdout",
     "output_type": "stream",
     "text": [
      "lead_source                 0\n",
      "industry                    0\n",
      "number_of_courses_viewed    0\n",
      "annual_income               0\n",
      "employment_status           0\n",
      "location                    0\n",
      "interaction_count           0\n",
      "lead_score                  0\n",
      "converted                   0\n",
      "dtype: int64\n"
     ]
    }
   ],
   "source": [
    "print(df.isnull().sum())"
   ]
  },
  {
   "cell_type": "code",
   "execution_count": 6,
   "id": "495a472a-4bdc-48eb-b811-fa1556ba187f",
   "metadata": {},
   "outputs": [],
   "source": [
    "# Split the data\n",
    "df_train, df_temp = train_test_split(df, test_size=0.4, random_state=1)\n",
    "df_val, df_test = train_test_split(df_temp, test_size=0.5, random_state=1)\n",
    "\n",
    "df_train = df_train.reset_index(drop=True)\n",
    "df_val = df_val.reset_index(drop=True)\n",
    "df_test = df_test.reset_index(drop=True)"
   ]
  },
  {
   "cell_type": "code",
   "execution_count": 7,
   "id": "2f4b8825-8f82-452f-81ff-41abb2a69d55",
   "metadata": {},
   "outputs": [
    {
     "data": {
      "text/plain": [
       "(877, 292, 293)"
      ]
     },
     "execution_count": 7,
     "metadata": {},
     "output_type": "execute_result"
    }
   ],
   "source": [
    "len(df_train), len(df_val), len(df_test)"
   ]
  },
  {
   "cell_type": "code",
   "execution_count": 8,
   "id": "485d8b7b-5f9c-4e7f-a093-ea56dde0a299",
   "metadata": {},
   "outputs": [
    {
     "data": {
      "text/plain": [
       "pandas.core.frame.DataFrame"
      ]
     },
     "execution_count": 8,
     "metadata": {},
     "output_type": "execute_result"
    }
   ],
   "source": [
    "type(df_train)"
   ]
  },
  {
   "cell_type": "markdown",
   "id": "62fe8302-77fc-4464-9d35-49859d250c5b",
   "metadata": {},
   "source": [
    "### Question 1: ROC AUC feature importance\n",
    "\n",
    "ROC AUC could also be used to evaluate feature importance of numerical variables. \n",
    "\n",
    "Let's do that\n",
    "\n",
    "* For each numerical variable, use it as score (aka prediction) and compute the AUC with the `converted` variable as ground truth.\n",
    "* Use the training dataset for that\n",
    "\n",
    "If your AUC is < 0.5, invert this variable by putting \\\"-\\\" in front\n",
    "\n",
    "(e.g. `-df_train['balance']`)\n",
    "\n",
    "AUC can go below 0.5 if the variable is negatively correlated with the target variable. You can change the direction of the correlation by negating this variable - then negative correlation becomes positive.\n",
    "\n",
    "Which numerical variable (among the following 4) has the highest AUC?\n",
    "\n",
    "- `lead_score`\n",
    "- **`number_of_courses_viewed`**\n",
    "- `interaction_count`\n",
    "- `annual_income`"
   ]
  },
  {
   "cell_type": "code",
   "execution_count": 9,
   "id": "22d90b38-ed29-4cbf-b5f9-06e89bec161c",
   "metadata": {},
   "outputs": [
    {
     "name": "stdout",
     "output_type": "stream",
     "text": [
      "lead_score: 0.6111168681007025\n",
      "number_of_courses_viewed: 0.7652439024390244\n",
      "interaction_count: 0.7271914132379249\n",
      "annual_income: 0.5446354552990968\n"
     ]
    }
   ],
   "source": [
    "from sklearn.metrics import roc_auc_score\n",
    "\n",
    "numerical = df_train[['lead_score', 'number_of_courses_viewed', 'interaction_count', 'annual_income']].copy()\n",
    "target = df_train['converted'].copy()\n",
    "\n",
    "for col in numerical.columns: # Iterate over column names data\n",
    "    auc = roc_auc_score(target, numerical[col]) # Use numerical[col] for the data\n",
    "    # If the auc is negative, invert the variable and recalculate\n",
    "    if auc < 0.5:\n",
    "        auc = roc_auc_score(target, -numerical[col])\n",
    "    print(f'{col}: {auc}')"
   ]
  },
  {
   "cell_type": "markdown",
   "id": "a6a72140-19f8-4cc2-b58a-92561fb2d38f",
   "metadata": {},
   "source": [
    "### Question 2: Training the model\n",
    "\n",
    "Apply one-hot-encoding using `DictVectorizer` and train the logistic regression with these parameters:\n",
    "\n",
    "```python\n",
    "LogisticRegression(solver='liblinear', C=1.0, max_iter=1000)\n",
    "```\n",
    "\n",
    "What's the AUC of this model on the validation dataset? (round to 3 digits)\n",
    "\n",
    "- 0.32\n",
    "- 0.52\n",
    "- 0.72\n",
    "- **0.92**"
   ]
  },
  {
   "cell_type": "code",
   "execution_count": 10,
   "id": "37bdd458-3c92-44e6-a8a3-cf40be630319",
   "metadata": {},
   "outputs": [
    {
     "name": "stdout",
     "output_type": "stream",
     "text": [
      "AUC: 0.794\n"
     ]
    }
   ],
   "source": [
    "from sklearn.feature_extraction import DictVectorizer\n",
    "from sklearn.linear_model import LogisticRegression\n",
    "import numpy as np\n",
    "\n",
    "# One-hot encoding\n",
    "dv = DictVectorizer(sparse=False)\n",
    "train_dict = df_train.drop(columns='converted').to_dict(orient='records')\n",
    "val_dict = df_val.drop(columns='converted').to_dict(orient='records')\n",
    "\n",
    "X_train = dv.fit_transform(train_dict)\n",
    "X_val = dv.transform(val_dict)\n",
    "y_train = df_train['converted'].values\n",
    "y_val = df_val['converted'].values\n",
    "\n",
    "# Train the model\n",
    "model = LogisticRegression(solver='liblinear', C=1.0, max_iter=1000)\n",
    "model.fit(X_train, y_train)\n",
    "\n",
    "# Evaluate the model\n",
    "y_pred = model.predict_proba(X_val)[:, 1]\n",
    "auc = roc_auc_score(y_val, y_pred)\n",
    "print(f'AUC: {auc:.3f}')"
   ]
  },
  {
   "cell_type": "code",
   "execution_count": 11,
   "id": "b36a489a-f756-4aba-b8b3-b5f818082f6f",
   "metadata": {},
   "outputs": [
    {
     "name": "stdout",
     "output_type": "stream",
     "text": [
      "AUC: 0.905\n"
     ]
    }
   ],
   "source": [
    "# The annual_income column and the lead_score column are on very different scales.\n",
    "#Scaling numerical features can help the optimization algorithm converge faster and more reliably.\n",
    "\n",
    "from sklearn.preprocessing import StandardScaler\n",
    "\n",
    "# One-hot encoding\n",
    "dv = DictVectorizer(sparse=False)\n",
    "train_dict = df_train.drop(columns='converted').to_dict(orient='records')\n",
    "val_dict = df_val.drop(columns='converted').to_dict(orient='records')\n",
    "\n",
    "X_train = dv.fit_transform(train_dict)\n",
    "X_val = dv.transform(val_dict)\n",
    "y_train = df_train['converted'].values\n",
    "y_val = df_val['converted'].values\n",
    "\n",
    "# Scale the features\n",
    "scaler = StandardScaler()\n",
    "X_train = scaler.fit_transform(X_train)\n",
    "X_val = scaler.transform(X_val)\n",
    "\n",
    "# Train the model\n",
    "model = LogisticRegression(solver='liblinear', C=1.0, max_iter=1000)\n",
    "model.fit(X_train, y_train)\n",
    "\n",
    "# Evaluate the model\n",
    "y_pred = model.predict_proba(X_val)[:, 1]\n",
    "auc = roc_auc_score(y_val, y_pred)\n",
    "print(f'AUC: {auc:.3f}')"
   ]
  },
  {
   "cell_type": "markdown",
   "id": "1cf7f70c-ec4b-42c9-8711-9046a12da3a1",
   "metadata": {},
   "source": [
    "### Question 3: Precision and Recall\n",
    "\n",
    "Now let's compute precision and recall for our model.\n",
    "\n",
    "* Evaluate the model on all thresholds from 0.0 to 1.0 with step 0.01\n",
    "* For each threshold, compute precision and recall\n",
    "* Plot them\n",
    "\n",
    "At which threshold precision and recall curves intersect?\n",
    "\n",
    "* 0.145\n",
    "* 0.345\n",
    "* **0.545**\n",
    "* 0.745"
   ]
  },
  {
   "cell_type": "code",
   "execution_count": 12,
   "id": "46f34c7f-8dff-4a6e-a83d-10ac4d08107a",
   "metadata": {},
   "outputs": [],
   "source": [
    "from sklearn.metrics import precision_score, recall_score\n",
    "import matplotlib.pyplot as plt\n",
    "\n",
    "# Define thresholds from 0.0 to 1.0 with a step of 0.01\n",
    "thresholds = np.arange(0.0, 1.01, 0.01)\n",
    "\n",
    "# Store precision and recall for each threshold\n",
    "precision = []\n",
    "recall = []\n",
    "\n",
    "# Compute precision and recall for each threshold\n",
    "for t in thresholds:\n",
    "    # If threshold is lower than prediction classify it as a positive case\n",
    "    y_pred_class = (y_pred >= t)\n",
    "    \n",
    "    # Calculate precision and recall\n",
    "    # Below can be calculated with precision_score and recall_score (see F1 score below):\n",
    "    #    p = precision_score(y_val, y_pred_class.astype(int), zero_division=0)\n",
    "    #    r = recall_score(y_val, y_pred_class.astype(int), zero_division=0)\n",
    "    tp = ((y_pred_class == 1) & (y_val == 1)).sum()  # Predicted positive and actually positive\n",
    "    fp = ((y_pred_class == 1) & (y_val == 0)).sum()  # Predicted positive but actually negative\n",
    "    fn = ((y_pred_class == 0) & (y_val == 1)).sum()  # Predicted negative but actually positive\n",
    "    \n",
    "    # Handle division by zero\n",
    "    p = tp / (tp + fp) if (tp + fp) > 0 else 0.0 \n",
    "    r = tp / (tp + fn) if (tp + fn) > 0 else 0.0 \n",
    "    \n",
    "    # Append results\n",
    "    precision.append(p)\n",
    "    recall.append(r)"
   ]
  },
  {
   "cell_type": "code",
   "execution_count": 13,
   "id": "b00a98ff-ff38-4d04-bf0a-e454185cb47f",
   "metadata": {},
   "outputs": [
    {
     "data": {
      "image/png": "[encoded data removed]",
      "text/plain": [
       "<Figure size 640x480 with 1 Axes>"
      ]
     },
     "metadata": {},
     "output_type": "display_data"
    }
   ],
   "source": [
    "# Plot precision and recall curves\n",
    "plt.plot(thresholds, precision, label='Precision')\n",
    "plt.plot(thresholds, recall, label='Recall')\n",
    "plt.xlabel('Threshold')\n",
    "plt.ylabel('Score')\n",
    "plt.legend()\n",
    "plt.title('Precision and Recall vs Threshold')\n",
    "plt.show()"
   ]
  },
  {
   "cell_type": "code",
   "execution_count": 14,
   "id": "f19a24a7-70fa-44df-84d7-39b349b07811",
   "metadata": {},
   "outputs": [
    {
     "name": "stdout",
     "output_type": "stream",
     "text": [
      "Threshold where precision equals recall: 0.530\n"
     ]
    }
   ],
   "source": [
    "# Find the threshold where precision equals recall\n",
    "precision = np.array(precision)  # Convert to NumPy arrays for vectorized operations\n",
    "recall = np.array(recall)\n",
    "\n",
    "# Calculate the absolute difference between precision and recall, excluding cases where both are zero\n",
    "diff = np.where((precision == 0.0) & (recall == 0.0), np.inf, np.abs(precision - recall)) # np.where(condition, value_if_true, value_if_false)\n",
    "\n",
    "# Find the index of the minimum difference\n",
    "min_diff_index = np.argmin(diff)\n",
    "\n",
    "# Get the corresponding threshold\n",
    "threshold_equal = thresholds[min_diff_index]\n",
    "print(f\"Threshold where precision equals recall: {threshold_equal:.3f}\")"
   ]
  },
  {
   "cell_type": "markdown",
   "id": "7a2e5ea4-c572-4cc8-b8b5-b5ca7ce6e948",
   "metadata": {},
   "source": [
    "### Question 4: F1 score\n",
    "\n",
    "Precision and recall are conflicting - when one grows, the other goes down. That's why they are often combined into the F1 score - a metric that takes into account both.\n",
    "\n",
    "This is the formula for computing F1:\n",
    "\n",
    "$$F_1 = 2 \\cdot \\cfrac{P \\cdot R}{P + R}$$\n",
    "\n",
    "Where $P$ is precision and $R$ is recall.\n",
    "\n",
    "Let's compute F1 for all thresholds from 0.0 to 1.0 with increment 0.01\n",
    "\n",
    "At which threshold F1 is maximal?\n",
    "\n",
    "- 0.14\n",
    "- 0.34\n",
    "- **0.54**\n",
    "- 0.74"
   ]
  },
  {
   "cell_type": "code",
   "execution_count": 15,
   "id": "e9e49707-c464-4ffb-84bd-f09ef918a7c5",
   "metadata": {},
   "outputs": [
    {
     "name": "stdout",
     "output_type": "stream",
     "text": [
      "Max F1 Score: 0.878 at Threshold: 0.53\n"
     ]
    }
   ],
   "source": [
    "# Compute F1 score for each threshold\n",
    "F1_scores = []\n",
    "\n",
    "for t in thresholds:\n",
    "    y_pred_class = (y_pred >= t)\n",
    "    p = precision_score(y_val, y_pred_class.astype(int), zero_division=0)\n",
    "    r = recall_score(y_val, y_pred_class.astype(int), zero_division=0)\n",
    "    f1 = 2 * (p * r) / (p + r) if (p + r) > 0 else 0\n",
    "    F1_scores.append(f1)\n",
    "\n",
    "# Find the threshold with the maximum F1 score\n",
    "max_f1_index = np.argmax(F1_scores)\n",
    "max_f1_threshold = thresholds[max_f1_index]\n",
    "print(f'Max F1 Score: {F1_scores[max_f1_index]:.3f} at Threshold: {max_f1_threshold:.2f}')"
   ]
  },
  {
   "cell_type": "code",
   "execution_count": 16,
   "id": "161e68d9-0d5e-4110-aa18-1a362f2ffb1d",
   "metadata": {},
   "outputs": [
    {
     "data": {
      "image/png": "[encoded data removed]",
      "text/plain": [
       "<Figure size 640x480 with 1 Axes>"
      ]
     },
     "metadata": {},
     "output_type": "display_data"
    }
   ],
   "source": [
    "# Plot F1 score curve\n",
    "plt.plot(thresholds, F1_scores, label='F1 Score')\n",
    "plt.xlabel('Threshold')\n",
    "plt.ylabel('F1 Score')\n",
    "plt.title('F1 Score vs Threshold')\n",
    "plt.legend()\n",
    "plt.show()"
   ]
  },
  {
   "cell_type": "markdown",
   "id": "7d26be82-0c0c-41f3-b859-a8d4c5c37d39",
   "metadata": {},
   "source": [
    "### Question 5: 5-Fold CV\n",
    "\n",
    "Use the `KFold` class from Scikit-Learn to evaluate our model on 5 different folds:\n",
    "\n",
    "```\n",
    "KFold(n_splits=5, shuffle=True, random_state=1)\n",
    "```\n",
    "\n",
    "* Iterate over different folds of `df_full_train`\n",
    "* Split the data into train and validation\n",
    "* Train the model on train with these parameters: `LogisticRegression(solver='liblinear', C=1.0, max_iter=1000)`\n",
    "* Use AUC to evaluate the model on validation\n",
    "\n",
    "How large is standard deviation of the scores across different folds?\n",
    "\n",
    "- 0.0001\n",
    "- **0.006**\n",
    "- 0.06\n",
    "- 0.36"
   ]
  },
  {
   "cell_type": "code",
   "execution_count": 18,
   "id": "eedbb45e-3f66-438e-adc0-b1fc6a87555d",
   "metadata": {},
   "outputs": [
    {
     "name": "stdout",
     "output_type": "stream",
     "text": [
      "0.7735762400489896\n",
      "0.8201367781155016\n",
      "0.8424427242161231\n",
      "0.8568672839506174\n",
      "0.8324398960363874\n"
     ]
    }
   ],
   "source": [
    "from sklearn.model_selection import KFold\n",
    "\n",
    "# Combine training and validation data\n",
    "df_full_train = pd.concat([df_train, df_val]).reset_index(drop=True)\n",
    "y_full_train = np.concatenate([y_train, y_val])\n",
    "\n",
    "# Set up K-Fold cross-validation\n",
    "kfold = KFold(n_splits=5, shuffle=True, random_state=1)\n",
    "scores = []\n",
    "\n",
    "# Train and evaluate the model for each fold\n",
    "for train_idx, val_idx in kfold.split(df_full_train):\n",
    "    df_train = df_full_train.iloc[train_idx]\n",
    "    df_val = df_full_train.iloc[val_idx]\n",
    "    y_train = y_full_train[train_idx]\n",
    "    y_val = y_full_train[val_idx]\n",
    "\n",
    "    # One-hot encoding\n",
    "    train_dict = df_train.drop(columns='converted').to_dict(orient='records')\n",
    "    val_dict = df_val.drop(columns='converted').to_dict(orient='records')\n",
    "    X_train = dv.fit_transform(train_dict)\n",
    "    X_val = dv.transform(val_dict)\n",
    "\n",
    "    # Train the model\n",
    "    model = LogisticRegression(solver='liblinear', C=1.0, max_iter=1000)\n",
    "    model.fit(X_train, y_train)\n",
    "\n",
    "    # Evaluate the model\n",
    "    y_pred = model.predict_proba(X_val)[:, 1] # Probability of class 1\n",
    "    \n",
    "    # Compute AUC score\n",
    "    auc = roc_auc_score(y_val, y_pred)\n",
    "    scores.append(auc)\n",
    "    print(auc)"
   ]
  },
  {
   "cell_type": "code",
   "execution_count": 19,
   "id": "124a1d1b-9abd-41cf-a279-039830f85620",
   "metadata": {},
   "outputs": [
    {
     "name": "stdout",
     "output_type": "stream",
     "text": [
      "Mean AUC: 0.825, Std AUC: 0.028\n"
     ]
    }
   ],
   "source": [
    "# Print the mean and standard deviation of AUC scores\n",
    "print(f'Mean AUC: {np.mean(scores):.3f}, Std AUC: {np.std(scores):.3f}')"
   ]
  },
  {
   "cell_type": "code",
   "execution_count": 20,
   "id": "41d0f7d3-fe89-4843-a28e-027b78e78701",
   "metadata": {},
   "outputs": [
    {
     "name": "stdout",
     "output_type": "stream",
     "text": [
      "0.9140477686989315\n",
      "0.9332826747720364\n",
      "0.8988975091874235\n",
      "0.9125876707272056\n",
      "0.9404411764705882\n",
      "Mean AUC: 0.920, Std AUC: 0.015\n"
     ]
    }
   ],
   "source": [
    "# With StandardScaler\n",
    "# Combine training and validation data\n",
    "df_full_train = pd.concat([df_train, df_val]).reset_index(drop=True)\n",
    "y_full_train = np.concatenate([y_train, y_val])\n",
    "\n",
    "# Set up K-Fold cross-validation\n",
    "kfold = KFold(n_splits=5, shuffle=True, random_state=1)\n",
    "scores = []\n",
    "\n",
    "# Train and evaluate the model for each fold\n",
    "for train_idx, val_idx in kfold.split(df_full_train):\n",
    "    df_train = df_full_train.iloc[train_idx]\n",
    "    df_val = df_full_train.iloc[val_idx]\n",
    "    y_train = y_full_train[train_idx]\n",
    "    y_val = y_full_train[val_idx]\n",
    "\n",
    "    # One-hot encoding\n",
    "    dv = DictVectorizer(sparse=False)\n",
    "    train_dict = df_train.drop(columns='converted').to_dict(orient='records')\n",
    "    val_dict = df_val.drop(columns='converted').to_dict(orient='records')\n",
    "    X_train = dv.fit_transform(train_dict)\n",
    "    X_val = dv.transform(val_dict)\n",
    "\n",
    "    # Scale the features\n",
    "    scaler = StandardScaler()\n",
    "    X_train = scaler.fit_transform(X_train)\n",
    "    X_val = scaler.transform(X_val)\n",
    "\n",
    "    # Train the model\n",
    "    model = LogisticRegression(solver='liblinear', C=1.0, max_iter=1000)\n",
    "    model.fit(X_train, y_train)\n",
    "\n",
    "    # Evaluate the model\n",
    "    y_pred = model.predict_proba(X_val)[:, 1]  # Probability of class 1\n",
    "    \n",
    "    # Compute AUC score\n",
    "    auc = roc_auc_score(y_val, y_pred)\n",
    "    scores.append(auc)\n",
    "    print(auc)\n",
    "\n",
    "# Print the mean and standard deviation of AUC scores with StandardScaler\n",
    "print(f'Mean AUC: {np.mean(scores):.3f}, Std AUC: {np.std(scores):.3f}')"
   ]
  },
  {
   "cell_type": "markdown",
   "id": "624dbec9-ba9e-4b1c-8f4a-1d0936c30387",
   "metadata": {},
   "source": [
    "### Question 6: Hyperparameter Tuning\n",
    "\n",
    "Now let's use 5-Fold cross-validation to find the best parameter `C`\n",
    "\n",
    "* Iterate over the following `C` values: `[0.000001, 0.001, 1]`\n",
    "* Initialize `KFold` with the same parameters as previously\n",
    "* Use these parameters for the model: `LogisticRegression(solver='liblinear', C=C, max_iter=1000)`\n",
    "* Compute the mean score as well as the std (round the mean and std to 3 decimal digits)\n",
    "\n",
    "Which `C` leads to the best mean score?\n",
    "\n",
    "- 0.000001\n",
    "- 0.001\n",
    "- **1**\n",
    "\n",
    "If you have ties, select the score with the lowest std. If you still have ties, select the smallest `C`."
   ]
  },
  {
   "cell_type": "code",
   "execution_count": 21,
   "id": "0b05b7f5-040a-4aad-b3c9-6ea570ec63c6",
   "metadata": {},
   "outputs": [
    {
     "name": "stdout",
     "output_type": "stream",
     "text": [
      "0.5276555625392835\n",
      "0.5534194528875379\n",
      "0.5524703960800327\n",
      "0.5325950535252861\n",
      "0.561437908496732\n",
      "0.8681646763042111\n",
      "0.85790273556231\n",
      "0.8552062066149448\n",
      "0.858250276854928\n",
      "0.8709967320261438\n",
      "0.8128535512256443\n",
      "0.8209726443768998\n",
      "0.8107799101674152\n",
      "0.835142118863049\n",
      "0.8401960784313726\n"
     ]
    }
   ],
   "source": [
    "# Hyperparameter tuning\n",
    "C_values = [0.000001, 0.001, 1]\n",
    "\n",
    "for C in C_values:\n",
    "    scores = []\n",
    "    for train_idx, val_idx in kfold.split(df_full_train):\n",
    "        df_train = df_full_train.iloc[train_idx]\n",
    "        df_val = df_full_train.iloc[val_idx]\n",
    "        y_train = y_full_train[train_idx]\n",
    "        y_val = y_full_train[val_idx]\n",
    "\n",
    "        # One-hot encoding\n",
    "        train_dict = df_train.drop(columns='converted').to_dict(orient='records')\n",
    "        val_dict = df_val.drop(columns='converted').to_dict(orient='records')\n",
    "        X_train = dv.fit_transform(train_dict)\n",
    "        X_val = dv.transform(val_dict)\n",
    "\n",
    "        # Train the model\n",
    "        model = LogisticRegression(solver='liblinear', C=C, max_iter=1000)\n",
    "        model.fit(X_train, y_train)\n",
    "\n",
    "        # Evaluate the model\n",
    "        y_pred = model.predict_proba(X_val)[:, 1]\n",
    "        auc = roc_auc_score(y_val, y_pred)\n",
    "        scores.append(auc)\n",
    "        print(auc)"
   ]
  },
  {
   "cell_type": "code",
   "execution_count": 22,
   "id": "d573412c-8a78-4358-a90e-eb86b428dfd3",
   "metadata": {},
   "outputs": [
    {
     "name": "stdout",
     "output_type": "stream",
     "text": [
      "C=1, Mean AUC: 0.824, Std AUC: 0.012\n"
     ]
    }
   ],
   "source": [
    "# Print mean and standard deviation of AUC scores for the current C value\n",
    "print(f'C={C}, Mean AUC: {np.mean(scores):.3f}, Std AUC: {np.std(scores):.3f}')"
   ]
  },
  {
   "cell_type": "code",
   "execution_count": 24,
   "id": "4af96a72-c67f-4c05-9d03-cd21ec60faae",
   "metadata": {},
   "outputs": [
    {
     "name": "stdout",
     "output_type": "stream",
     "text": [
      "C=1e-06, AUC: 0.900\n",
      "C=1e-06, AUC: 0.918\n",
      "C=1e-06, AUC: 0.882\n",
      "C=1e-06, AUC: 0.895\n",
      "C=1e-06, AUC: 0.936\n",
      "C=0.001, AUC: 0.904\n",
      "C=0.001, AUC: 0.923\n",
      "C=0.001, AUC: 0.885\n",
      "C=0.001, AUC: 0.901\n",
      "C=0.001, AUC: 0.938\n",
      "C=1, AUC: 0.914\n",
      "C=1, AUC: 0.933\n",
      "C=1, AUC: 0.899\n",
      "C=1, AUC: 0.913\n",
      "C=1, AUC: 0.940\n",
      "C=1, Mean AUC: 0.920, Std AUC: 0.015\n"
     ]
    }
   ],
   "source": [
    "# With StandardScaler\n",
    "C_values = [0.000001, 0.001, 1]\n",
    "\n",
    "for C in C_values:\n",
    "    scores = []\n",
    "    for train_idx, val_idx in kfold.split(df_full_train):\n",
    "        df_train = df_full_train.iloc[train_idx]\n",
    "        df_val = df_full_train.iloc[val_idx]\n",
    "        y_train = y_full_train[train_idx]\n",
    "        y_val = y_full_train[val_idx]\n",
    "\n",
    "        # One-hot encoding\n",
    "        dv = DictVectorizer(sparse=False)\n",
    "        train_dict = df_train.drop(columns='converted').to_dict(orient='records')\n",
    "        val_dict = df_val.drop(columns='converted').to_dict(orient='records')\n",
    "        X_train = dv.fit_transform(train_dict)\n",
    "        X_val = dv.transform(val_dict)\n",
    "\n",
    "        # Scale the features\n",
    "        scaler = StandardScaler()\n",
    "        X_train = scaler.fit_transform(X_train)\n",
    "        X_val = scaler.transform(X_val)\n",
    "\n",
    "        # Train the model\n",
    "        model = LogisticRegression(solver='liblinear', C=C, max_iter=1000)\n",
    "        model.fit(X_train, y_train)\n",
    "\n",
    "        # Evaluate the model\n",
    "        y_pred = model.predict_proba(X_val)[:, 1]\n",
    "        auc = roc_auc_score(y_val, y_pred)\n",
    "        scores.append(auc)\n",
    "        print(f'C={C}, AUC: {auc:.3f}')\n",
    "\n",
    "# Print mean and standard deviation of AUC scores for the current C value with StandardScaler\n",
    "print(f'C={C}, Mean AUC: {np.mean(scores):.3f}, Std AUC: {np.std(scores):.3f}')"
   ]
  },
  {
   "cell_type": "code",
   "execution_count": null,
   "id": "2206f8d1-dc2b-4fb3-a738-c0fb21a5a61b",
   "metadata": {},
   "outputs": [],
   "source": []
  }
 ],
 "metadata": {
  "kernelspec": {
   "display_name": "Python 3 (ipykernel)",
   "language": "python",
   "name": "python3"
  },
  "language_info": {
   "codemirror_mode": {
    "name": "ipython",
    "version": 3
   },
   "file_extension": ".py",
   "mimetype": "text/x-python",
   "name": "python",
   "nbconvert_exporter": "python",
   "pygments_lexer": "ipython3",
   "version": "3.12.1"
  }
 },
 "nbformat": 4,
 "nbformat_minor": 5
}
